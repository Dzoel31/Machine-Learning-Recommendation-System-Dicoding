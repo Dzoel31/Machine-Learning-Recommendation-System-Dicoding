{
 "cells": [
  {
   "cell_type": "markdown",
   "metadata": {},
   "source": [
    "# Final Submission: Rekomendasi Wisata di 5 Kota di Indonesia\n",
    "\n"
   ]
  },
  {
   "cell_type": "markdown",
   "metadata": {},
   "source": [
    "- Name:  Dzulfikri Adjmal\n",
    "- Email: dzulfikriadjmal@gmail.com\n",
    "- ID Dicoding: dzulfikriadjmal"
   ]
  },
  {
   "cell_type": "markdown",
   "metadata": {},
   "source": [
    "# Mengimport library yang dibutuhkan"
   ]
  },
  {
   "cell_type": "code",
   "execution_count": 61,
   "metadata": {},
   "outputs": [],
   "source": [
    "import pandas as pd\n",
    "import numpy as np\n",
    "import matplotlib.pyplot as plt\n",
    "import seaborn as sns\n",
    "import plotly.express as px\n",
    "\n",
    "from sklearn.feature_extraction.text import TfidfVectorizer\n",
    "from sklearn.metrics import root_mean_squared_error\n",
    "from sklearn.metrics.pairwise import cosine_similarity\n",
    "from Sastrawi.Stemmer.StemmerFactory import StemmerFactory\n",
    "\n",
    "import tensorflow as tf\n",
    "from tensorflow.keras import layers\n",
    "from tensorflow import keras\n",
    "\n",
    "from pathlib import Path\n"
   ]
  },
  {
   "cell_type": "markdown",
   "metadata": {},
   "source": [
    "## Data Assessing"
   ]
  },
  {
   "cell_type": "markdown",
   "metadata": {},
   "source": [
    "Memuat semua data destinasi wisata"
   ]
  },
  {
   "cell_type": "code",
   "execution_count": 2,
   "metadata": {},
   "outputs": [],
   "source": [
    "df_user = pd.read_csv('./dataset/indonesia-tourism-destination/user.csv')\n",
    "df_destination = pd.read_csv('./dataset/indonesia-tourism-destination/tourism_with_id.csv')\n",
    "df_rating = pd.read_csv('./dataset/indonesia-tourism-destination/tourism_rating.csv')\n",
    "df_package = pd.read_csv('./dataset/indonesia-tourism-destination/package_tourism.csv')"
   ]
  },
  {
   "cell_type": "markdown",
   "metadata": {},
   "source": [
    "Melihat deskripsi data user"
   ]
  },
  {
   "cell_type": "code",
   "execution_count": 3,
   "metadata": {},
   "outputs": [
    {
     "name": "stdout",
     "output_type": "stream",
     "text": [
      "<class 'pandas.core.frame.DataFrame'>\n",
      "RangeIndex: 300 entries, 0 to 299\n",
      "Data columns (total 3 columns):\n",
      " #   Column    Non-Null Count  Dtype \n",
      "---  ------    --------------  ----- \n",
      " 0   User_Id   300 non-null    int64 \n",
      " 1   Location  300 non-null    object\n",
      " 2   Age       300 non-null    int64 \n",
      "dtypes: int64(2), object(1)\n",
      "memory usage: 7.2+ KB\n"
     ]
    }
   ],
   "source": [
    "df_user.info()"
   ]
  },
  {
   "cell_type": "markdown",
   "metadata": {},
   "source": [
    "Melihat deskripsi data destinasi"
   ]
  },
  {
   "cell_type": "code",
   "execution_count": 4,
   "metadata": {},
   "outputs": [
    {
     "name": "stdout",
     "output_type": "stream",
     "text": [
      "<class 'pandas.core.frame.DataFrame'>\n",
      "RangeIndex: 437 entries, 0 to 436\n",
      "Data columns (total 13 columns):\n",
      " #   Column        Non-Null Count  Dtype  \n",
      "---  ------        --------------  -----  \n",
      " 0   Place_Id      437 non-null    int64  \n",
      " 1   Place_Name    437 non-null    object \n",
      " 2   Description   437 non-null    object \n",
      " 3   Category      437 non-null    object \n",
      " 4   City          437 non-null    object \n",
      " 5   Price         437 non-null    int64  \n",
      " 6   Rating        437 non-null    float64\n",
      " 7   Time_Minutes  205 non-null    float64\n",
      " 8   Coordinate    437 non-null    object \n",
      " 9   Lat           437 non-null    float64\n",
      " 10  Long          437 non-null    float64\n",
      " 11  Unnamed: 11   0 non-null      float64\n",
      " 12  Unnamed: 12   437 non-null    int64  \n",
      "dtypes: float64(5), int64(3), object(5)\n",
      "memory usage: 44.5+ KB\n"
     ]
    }
   ],
   "source": [
    "df_destination.info()"
   ]
  },
  {
   "cell_type": "markdown",
   "metadata": {},
   "source": [
    "Melihat deskripsi data rating"
   ]
  },
  {
   "cell_type": "code",
   "execution_count": 5,
   "metadata": {},
   "outputs": [
    {
     "name": "stdout",
     "output_type": "stream",
     "text": [
      "<class 'pandas.core.frame.DataFrame'>\n",
      "RangeIndex: 10000 entries, 0 to 9999\n",
      "Data columns (total 3 columns):\n",
      " #   Column         Non-Null Count  Dtype\n",
      "---  ------         --------------  -----\n",
      " 0   User_Id        10000 non-null  int64\n",
      " 1   Place_Id       10000 non-null  int64\n",
      " 2   Place_Ratings  10000 non-null  int64\n",
      "dtypes: int64(3)\n",
      "memory usage: 234.5 KB\n"
     ]
    }
   ],
   "source": [
    "df_rating.info()"
   ]
  },
  {
   "cell_type": "markdown",
   "metadata": {},
   "source": [
    "Melihat deskripsi data paket wisata"
   ]
  },
  {
   "cell_type": "code",
   "execution_count": 6,
   "metadata": {},
   "outputs": [
    {
     "name": "stdout",
     "output_type": "stream",
     "text": [
      "<class 'pandas.core.frame.DataFrame'>\n",
      "RangeIndex: 100 entries, 0 to 99\n",
      "Data columns (total 7 columns):\n",
      " #   Column          Non-Null Count  Dtype \n",
      "---  ------          --------------  ----- \n",
      " 0   Package         100 non-null    int64 \n",
      " 1   City            100 non-null    object\n",
      " 2   Place_Tourism1  100 non-null    object\n",
      " 3   Place_Tourism2  100 non-null    object\n",
      " 4   Place_Tourism3  100 non-null    object\n",
      " 5   Place_Tourism4  66 non-null     object\n",
      " 6   Place_Tourism5  39 non-null     object\n",
      "dtypes: int64(1), object(6)\n",
      "memory usage: 5.6+ KB\n"
     ]
    }
   ],
   "source": [
    "df_package.info()"
   ]
  },
  {
   "cell_type": "markdown",
   "metadata": {},
   "source": [
    "Melihat sample data user menggunakan `head()`"
   ]
  },
  {
   "cell_type": "code",
   "execution_count": 7,
   "metadata": {},
   "outputs": [
    {
     "data": {
      "text/html": [
       "<div>\n",
       "<style scoped>\n",
       "    .dataframe tbody tr th:only-of-type {\n",
       "        vertical-align: middle;\n",
       "    }\n",
       "\n",
       "    .dataframe tbody tr th {\n",
       "        vertical-align: top;\n",
       "    }\n",
       "\n",
       "    .dataframe thead th {\n",
       "        text-align: right;\n",
       "    }\n",
       "</style>\n",
       "<table border=\"1\" class=\"dataframe\">\n",
       "  <thead>\n",
       "    <tr style=\"text-align: right;\">\n",
       "      <th></th>\n",
       "      <th>User_Id</th>\n",
       "      <th>Location</th>\n",
       "      <th>Age</th>\n",
       "    </tr>\n",
       "  </thead>\n",
       "  <tbody>\n",
       "    <tr>\n",
       "      <th>0</th>\n",
       "      <td>1</td>\n",
       "      <td>Semarang, Jawa Tengah</td>\n",
       "      <td>20</td>\n",
       "    </tr>\n",
       "    <tr>\n",
       "      <th>1</th>\n",
       "      <td>2</td>\n",
       "      <td>Bekasi, Jawa Barat</td>\n",
       "      <td>21</td>\n",
       "    </tr>\n",
       "    <tr>\n",
       "      <th>2</th>\n",
       "      <td>3</td>\n",
       "      <td>Cirebon, Jawa Barat</td>\n",
       "      <td>23</td>\n",
       "    </tr>\n",
       "    <tr>\n",
       "      <th>3</th>\n",
       "      <td>4</td>\n",
       "      <td>Bekasi, Jawa Barat</td>\n",
       "      <td>21</td>\n",
       "    </tr>\n",
       "    <tr>\n",
       "      <th>4</th>\n",
       "      <td>5</td>\n",
       "      <td>Lampung, Sumatera Selatan</td>\n",
       "      <td>20</td>\n",
       "    </tr>\n",
       "  </tbody>\n",
       "</table>\n",
       "</div>"
      ],
      "text/plain": [
       "   User_Id                   Location  Age\n",
       "0        1      Semarang, Jawa Tengah   20\n",
       "1        2         Bekasi, Jawa Barat   21\n",
       "2        3        Cirebon, Jawa Barat   23\n",
       "3        4         Bekasi, Jawa Barat   21\n",
       "4        5  Lampung, Sumatera Selatan   20"
      ]
     },
     "execution_count": 7,
     "metadata": {},
     "output_type": "execute_result"
    }
   ],
   "source": [
    "df_user.head()"
   ]
  },
  {
   "cell_type": "markdown",
   "metadata": {},
   "source": [
    "Melihat sample data destinasi menggunakan `head()`"
   ]
  },
  {
   "cell_type": "code",
   "execution_count": 8,
   "metadata": {},
   "outputs": [
    {
     "data": {
      "text/html": [
       "<div>\n",
       "<style scoped>\n",
       "    .dataframe tbody tr th:only-of-type {\n",
       "        vertical-align: middle;\n",
       "    }\n",
       "\n",
       "    .dataframe tbody tr th {\n",
       "        vertical-align: top;\n",
       "    }\n",
       "\n",
       "    .dataframe thead th {\n",
       "        text-align: right;\n",
       "    }\n",
       "</style>\n",
       "<table border=\"1\" class=\"dataframe\">\n",
       "  <thead>\n",
       "    <tr style=\"text-align: right;\">\n",
       "      <th></th>\n",
       "      <th>Place_Id</th>\n",
       "      <th>Place_Name</th>\n",
       "      <th>Description</th>\n",
       "      <th>Category</th>\n",
       "      <th>City</th>\n",
       "      <th>Price</th>\n",
       "      <th>Rating</th>\n",
       "      <th>Time_Minutes</th>\n",
       "      <th>Coordinate</th>\n",
       "      <th>Lat</th>\n",
       "      <th>Long</th>\n",
       "      <th>Unnamed: 11</th>\n",
       "      <th>Unnamed: 12</th>\n",
       "    </tr>\n",
       "  </thead>\n",
       "  <tbody>\n",
       "    <tr>\n",
       "      <th>0</th>\n",
       "      <td>1</td>\n",
       "      <td>Monumen Nasional</td>\n",
       "      <td>Monumen Nasional atau yang populer disingkat d...</td>\n",
       "      <td>Budaya</td>\n",
       "      <td>Jakarta</td>\n",
       "      <td>20000</td>\n",
       "      <td>4.6</td>\n",
       "      <td>15.0</td>\n",
       "      <td>{'lat': -6.1753924, 'lng': 106.8271528}</td>\n",
       "      <td>-6.175392</td>\n",
       "      <td>106.827153</td>\n",
       "      <td>NaN</td>\n",
       "      <td>1</td>\n",
       "    </tr>\n",
       "    <tr>\n",
       "      <th>1</th>\n",
       "      <td>2</td>\n",
       "      <td>Kota Tua</td>\n",
       "      <td>Kota tua di Jakarta, yang juga bernama Kota Tu...</td>\n",
       "      <td>Budaya</td>\n",
       "      <td>Jakarta</td>\n",
       "      <td>0</td>\n",
       "      <td>4.6</td>\n",
       "      <td>90.0</td>\n",
       "      <td>{'lat': -6.137644799999999, 'lng': 106.8171245}</td>\n",
       "      <td>-6.137645</td>\n",
       "      <td>106.817125</td>\n",
       "      <td>NaN</td>\n",
       "      <td>2</td>\n",
       "    </tr>\n",
       "    <tr>\n",
       "      <th>2</th>\n",
       "      <td>3</td>\n",
       "      <td>Dunia Fantasi</td>\n",
       "      <td>Dunia Fantasi atau disebut juga Dufan adalah t...</td>\n",
       "      <td>Taman Hiburan</td>\n",
       "      <td>Jakarta</td>\n",
       "      <td>270000</td>\n",
       "      <td>4.6</td>\n",
       "      <td>360.0</td>\n",
       "      <td>{'lat': -6.125312399999999, 'lng': 106.8335377}</td>\n",
       "      <td>-6.125312</td>\n",
       "      <td>106.833538</td>\n",
       "      <td>NaN</td>\n",
       "      <td>3</td>\n",
       "    </tr>\n",
       "    <tr>\n",
       "      <th>3</th>\n",
       "      <td>4</td>\n",
       "      <td>Taman Mini Indonesia Indah (TMII)</td>\n",
       "      <td>Taman Mini Indonesia Indah merupakan suatu kaw...</td>\n",
       "      <td>Taman Hiburan</td>\n",
       "      <td>Jakarta</td>\n",
       "      <td>10000</td>\n",
       "      <td>4.5</td>\n",
       "      <td>NaN</td>\n",
       "      <td>{'lat': -6.302445899999999, 'lng': 106.8951559}</td>\n",
       "      <td>-6.302446</td>\n",
       "      <td>106.895156</td>\n",
       "      <td>NaN</td>\n",
       "      <td>4</td>\n",
       "    </tr>\n",
       "    <tr>\n",
       "      <th>4</th>\n",
       "      <td>5</td>\n",
       "      <td>Atlantis Water Adventure</td>\n",
       "      <td>Atlantis Water Adventure atau dikenal dengan A...</td>\n",
       "      <td>Taman Hiburan</td>\n",
       "      <td>Jakarta</td>\n",
       "      <td>94000</td>\n",
       "      <td>4.5</td>\n",
       "      <td>60.0</td>\n",
       "      <td>{'lat': -6.12419, 'lng': 106.839134}</td>\n",
       "      <td>-6.124190</td>\n",
       "      <td>106.839134</td>\n",
       "      <td>NaN</td>\n",
       "      <td>5</td>\n",
       "    </tr>\n",
       "  </tbody>\n",
       "</table>\n",
       "</div>"
      ],
      "text/plain": [
       "   Place_Id                         Place_Name  \\\n",
       "0         1                   Monumen Nasional   \n",
       "1         2                           Kota Tua   \n",
       "2         3                      Dunia Fantasi   \n",
       "3         4  Taman Mini Indonesia Indah (TMII)   \n",
       "4         5           Atlantis Water Adventure   \n",
       "\n",
       "                                         Description       Category     City  \\\n",
       "0  Monumen Nasional atau yang populer disingkat d...         Budaya  Jakarta   \n",
       "1  Kota tua di Jakarta, yang juga bernama Kota Tu...         Budaya  Jakarta   \n",
       "2  Dunia Fantasi atau disebut juga Dufan adalah t...  Taman Hiburan  Jakarta   \n",
       "3  Taman Mini Indonesia Indah merupakan suatu kaw...  Taman Hiburan  Jakarta   \n",
       "4  Atlantis Water Adventure atau dikenal dengan A...  Taman Hiburan  Jakarta   \n",
       "\n",
       "    Price  Rating  Time_Minutes  \\\n",
       "0   20000     4.6          15.0   \n",
       "1       0     4.6          90.0   \n",
       "2  270000     4.6         360.0   \n",
       "3   10000     4.5           NaN   \n",
       "4   94000     4.5          60.0   \n",
       "\n",
       "                                        Coordinate       Lat        Long  \\\n",
       "0          {'lat': -6.1753924, 'lng': 106.8271528} -6.175392  106.827153   \n",
       "1  {'lat': -6.137644799999999, 'lng': 106.8171245} -6.137645  106.817125   \n",
       "2  {'lat': -6.125312399999999, 'lng': 106.8335377} -6.125312  106.833538   \n",
       "3  {'lat': -6.302445899999999, 'lng': 106.8951559} -6.302446  106.895156   \n",
       "4             {'lat': -6.12419, 'lng': 106.839134} -6.124190  106.839134   \n",
       "\n",
       "   Unnamed: 11  Unnamed: 12  \n",
       "0          NaN            1  \n",
       "1          NaN            2  \n",
       "2          NaN            3  \n",
       "3          NaN            4  \n",
       "4          NaN            5  "
      ]
     },
     "execution_count": 8,
     "metadata": {},
     "output_type": "execute_result"
    }
   ],
   "source": [
    "df_destination.head()"
   ]
  },
  {
   "cell_type": "markdown",
   "metadata": {},
   "source": [
    "Melihat sample data rating menggunakan `head()`"
   ]
  },
  {
   "cell_type": "code",
   "execution_count": 9,
   "metadata": {},
   "outputs": [
    {
     "data": {
      "text/html": [
       "<div>\n",
       "<style scoped>\n",
       "    .dataframe tbody tr th:only-of-type {\n",
       "        vertical-align: middle;\n",
       "    }\n",
       "\n",
       "    .dataframe tbody tr th {\n",
       "        vertical-align: top;\n",
       "    }\n",
       "\n",
       "    .dataframe thead th {\n",
       "        text-align: right;\n",
       "    }\n",
       "</style>\n",
       "<table border=\"1\" class=\"dataframe\">\n",
       "  <thead>\n",
       "    <tr style=\"text-align: right;\">\n",
       "      <th></th>\n",
       "      <th>User_Id</th>\n",
       "      <th>Place_Id</th>\n",
       "      <th>Place_Ratings</th>\n",
       "    </tr>\n",
       "  </thead>\n",
       "  <tbody>\n",
       "    <tr>\n",
       "      <th>0</th>\n",
       "      <td>1</td>\n",
       "      <td>179</td>\n",
       "      <td>3</td>\n",
       "    </tr>\n",
       "    <tr>\n",
       "      <th>1</th>\n",
       "      <td>1</td>\n",
       "      <td>344</td>\n",
       "      <td>2</td>\n",
       "    </tr>\n",
       "    <tr>\n",
       "      <th>2</th>\n",
       "      <td>1</td>\n",
       "      <td>5</td>\n",
       "      <td>5</td>\n",
       "    </tr>\n",
       "    <tr>\n",
       "      <th>3</th>\n",
       "      <td>1</td>\n",
       "      <td>373</td>\n",
       "      <td>3</td>\n",
       "    </tr>\n",
       "    <tr>\n",
       "      <th>4</th>\n",
       "      <td>1</td>\n",
       "      <td>101</td>\n",
       "      <td>4</td>\n",
       "    </tr>\n",
       "  </tbody>\n",
       "</table>\n",
       "</div>"
      ],
      "text/plain": [
       "   User_Id  Place_Id  Place_Ratings\n",
       "0        1       179              3\n",
       "1        1       344              2\n",
       "2        1         5              5\n",
       "3        1       373              3\n",
       "4        1       101              4"
      ]
     },
     "execution_count": 9,
     "metadata": {},
     "output_type": "execute_result"
    }
   ],
   "source": [
    "df_rating.head()"
   ]
  },
  {
   "cell_type": "markdown",
   "metadata": {},
   "source": [
    "Melihat sample data paket wisata menggunakan `head()`"
   ]
  },
  {
   "cell_type": "code",
   "execution_count": 10,
   "metadata": {},
   "outputs": [
    {
     "data": {
      "text/html": [
       "<div>\n",
       "<style scoped>\n",
       "    .dataframe tbody tr th:only-of-type {\n",
       "        vertical-align: middle;\n",
       "    }\n",
       "\n",
       "    .dataframe tbody tr th {\n",
       "        vertical-align: top;\n",
       "    }\n",
       "\n",
       "    .dataframe thead th {\n",
       "        text-align: right;\n",
       "    }\n",
       "</style>\n",
       "<table border=\"1\" class=\"dataframe\">\n",
       "  <thead>\n",
       "    <tr style=\"text-align: right;\">\n",
       "      <th></th>\n",
       "      <th>Package</th>\n",
       "      <th>City</th>\n",
       "      <th>Place_Tourism1</th>\n",
       "      <th>Place_Tourism2</th>\n",
       "      <th>Place_Tourism3</th>\n",
       "      <th>Place_Tourism4</th>\n",
       "      <th>Place_Tourism5</th>\n",
       "    </tr>\n",
       "  </thead>\n",
       "  <tbody>\n",
       "    <tr>\n",
       "      <th>0</th>\n",
       "      <td>1</td>\n",
       "      <td>Jakarta</td>\n",
       "      <td>Pasar Tanah Abang</td>\n",
       "      <td>Taman Ayodya</td>\n",
       "      <td>Museum Tekstil</td>\n",
       "      <td>NaN</td>\n",
       "      <td>NaN</td>\n",
       "    </tr>\n",
       "    <tr>\n",
       "      <th>1</th>\n",
       "      <td>2</td>\n",
       "      <td>Jakarta</td>\n",
       "      <td>Pasar Tanah Abang</td>\n",
       "      <td>Pasar Taman Puring</td>\n",
       "      <td>Pasar Petak Sembilan</td>\n",
       "      <td>NaN</td>\n",
       "      <td>NaN</td>\n",
       "    </tr>\n",
       "    <tr>\n",
       "      <th>2</th>\n",
       "      <td>3</td>\n",
       "      <td>Jakarta</td>\n",
       "      <td>Perpustakaan Nasional</td>\n",
       "      <td>Monas</td>\n",
       "      <td>Masjid Istiqlal</td>\n",
       "      <td>NaN</td>\n",
       "      <td>NaN</td>\n",
       "    </tr>\n",
       "    <tr>\n",
       "      <th>3</th>\n",
       "      <td>4</td>\n",
       "      <td>Jakarta</td>\n",
       "      <td>Pulau Tidung</td>\n",
       "      <td>Pulau Bidadari</td>\n",
       "      <td>Pulau Pari</td>\n",
       "      <td>Pulau Pramuka</td>\n",
       "      <td>Pulau Pelangi</td>\n",
       "    </tr>\n",
       "    <tr>\n",
       "      <th>4</th>\n",
       "      <td>5</td>\n",
       "      <td>Jakarta</td>\n",
       "      <td>Museum Satria Mandala</td>\n",
       "      <td>Museum Wayang</td>\n",
       "      <td>Museum Bahari Jakarta</td>\n",
       "      <td>Museum Macan (Modern and Contemporary Art in N...</td>\n",
       "      <td>NaN</td>\n",
       "    </tr>\n",
       "  </tbody>\n",
       "</table>\n",
       "</div>"
      ],
      "text/plain": [
       "   Package     City         Place_Tourism1      Place_Tourism2  \\\n",
       "0        1  Jakarta      Pasar Tanah Abang        Taman Ayodya   \n",
       "1        2  Jakarta      Pasar Tanah Abang  Pasar Taman Puring   \n",
       "2        3  Jakarta  Perpustakaan Nasional               Monas   \n",
       "3        4  Jakarta           Pulau Tidung      Pulau Bidadari   \n",
       "4        5  Jakarta  Museum Satria Mandala       Museum Wayang   \n",
       "\n",
       "          Place_Tourism3                                     Place_Tourism4  \\\n",
       "0         Museum Tekstil                                                NaN   \n",
       "1   Pasar Petak Sembilan                                                NaN   \n",
       "2        Masjid Istiqlal                                                NaN   \n",
       "3             Pulau Pari                                      Pulau Pramuka   \n",
       "4  Museum Bahari Jakarta  Museum Macan (Modern and Contemporary Art in N...   \n",
       "\n",
       "  Place_Tourism5  \n",
       "0            NaN  \n",
       "1            NaN  \n",
       "2            NaN  \n",
       "3  Pulau Pelangi  \n",
       "4            NaN  "
      ]
     },
     "execution_count": 10,
     "metadata": {},
     "output_type": "execute_result"
    }
   ],
   "source": [
    "df_package.head()"
   ]
  },
  {
   "cell_type": "markdown",
   "metadata": {},
   "source": [
    "Mengecek missing value pada data user"
   ]
  },
  {
   "cell_type": "code",
   "execution_count": 11,
   "metadata": {},
   "outputs": [
    {
     "data": {
      "text/plain": [
       "User_Id     0\n",
       "Location    0\n",
       "Age         0\n",
       "dtype: int64"
      ]
     },
     "execution_count": 11,
     "metadata": {},
     "output_type": "execute_result"
    }
   ],
   "source": [
    "df_user.isna().sum()"
   ]
  },
  {
   "cell_type": "markdown",
   "metadata": {},
   "source": [
    "Mengecek missing value pada data destinasi"
   ]
  },
  {
   "cell_type": "code",
   "execution_count": 12,
   "metadata": {},
   "outputs": [
    {
     "data": {
      "text/plain": [
       "Place_Id          0\n",
       "Place_Name        0\n",
       "Description       0\n",
       "Category          0\n",
       "City              0\n",
       "Price             0\n",
       "Rating            0\n",
       "Time_Minutes    232\n",
       "Coordinate        0\n",
       "Lat               0\n",
       "Long              0\n",
       "Unnamed: 11     437\n",
       "Unnamed: 12       0\n",
       "dtype: int64"
      ]
     },
     "execution_count": 12,
     "metadata": {},
     "output_type": "execute_result"
    }
   ],
   "source": [
    "df_destination.isna().sum()"
   ]
  },
  {
   "cell_type": "markdown",
   "metadata": {},
   "source": [
    "Mengecek missing value pada data rating"
   ]
  },
  {
   "cell_type": "code",
   "execution_count": 13,
   "metadata": {},
   "outputs": [
    {
     "data": {
      "text/plain": [
       "User_Id          0\n",
       "Place_Id         0\n",
       "Place_Ratings    0\n",
       "dtype: int64"
      ]
     },
     "execution_count": 13,
     "metadata": {},
     "output_type": "execute_result"
    }
   ],
   "source": [
    "df_rating.isna().sum()"
   ]
  },
  {
   "cell_type": "markdown",
   "metadata": {},
   "source": [
    "Mengecek missing value pada data paket wisata"
   ]
  },
  {
   "cell_type": "code",
   "execution_count": 14,
   "metadata": {},
   "outputs": [
    {
     "data": {
      "text/plain": [
       "Package            0\n",
       "City               0\n",
       "Place_Tourism1     0\n",
       "Place_Tourism2     0\n",
       "Place_Tourism3     0\n",
       "Place_Tourism4    34\n",
       "Place_Tourism5    61\n",
       "dtype: int64"
      ]
     },
     "execution_count": 14,
     "metadata": {},
     "output_type": "execute_result"
    }
   ],
   "source": [
    "df_package.isna().sum()"
   ]
  },
  {
   "cell_type": "markdown",
   "metadata": {},
   "source": [
    "## Preprocessing Data"
   ]
  },
  {
   "cell_type": "markdown",
   "metadata": {},
   "source": [
    "Mengecek nilai pada kolom rating"
   ]
  },
  {
   "cell_type": "code",
   "execution_count": 15,
   "metadata": {},
   "outputs": [
    {
     "name": "stdout",
     "output_type": "stream",
     "text": [
      "Nilai rating (user): [3 2 5 4 1]\n",
      "Nilai rating (destinasi): [4.6 4.5 4.  4.4 4.2 4.8 4.3 4.7 5.  4.1 3.8 3.9 4.9 3.4]\n"
     ]
    }
   ],
   "source": [
    "print(f\"Nilai rating (user): {df_rating['Place_Ratings'].unique()}\")\n",
    "print(f\"Nilai rating (destinasi): {df_destination['Rating'].unique()}\")"
   ]
  },
  {
   "cell_type": "markdown",
   "metadata": {},
   "source": [
    "Melihat ukuran data"
   ]
  },
  {
   "cell_type": "code",
   "execution_count": 16,
   "metadata": {},
   "outputs": [
    {
     "name": "stdout",
     "output_type": "stream",
     "text": [
      "Banyak rating: 10000\n",
      "Banyak user: 300\n",
      "Banyak destinasi: 437\n"
     ]
    }
   ],
   "source": [
    "print(f\"Banyak rating: {len(df_rating)}\")\n",
    "print(f\"Banyak user: {len(df_user)}\")\n",
    "print(f\"Banyak destinasi: {len(df_destination)}\")"
   ]
  },
  {
   "cell_type": "markdown",
   "metadata": {},
   "source": [
    "melihat data kategori wisata"
   ]
  },
  {
   "cell_type": "code",
   "execution_count": 17,
   "metadata": {},
   "outputs": [
    {
     "data": {
      "text/plain": [
       "array(['Budaya', 'Taman Hiburan', 'Cagar Alam', 'Bahari',\n",
       "       'Pusat Perbelanjaan', 'Tempat Ibadah'], dtype=object)"
      ]
     },
     "execution_count": 17,
     "metadata": {},
     "output_type": "execute_result"
    }
   ],
   "source": [
    "df_destination['Category'].unique()"
   ]
  },
  {
   "cell_type": "markdown",
   "metadata": {},
   "source": [
    "Menghapus kolom yang tidak diperlukan"
   ]
  },
  {
   "cell_type": "code",
   "execution_count": 18,
   "metadata": {},
   "outputs": [
    {
     "data": {
      "text/html": [
       "<div>\n",
       "<style scoped>\n",
       "    .dataframe tbody tr th:only-of-type {\n",
       "        vertical-align: middle;\n",
       "    }\n",
       "\n",
       "    .dataframe tbody tr th {\n",
       "        vertical-align: top;\n",
       "    }\n",
       "\n",
       "    .dataframe thead th {\n",
       "        text-align: right;\n",
       "    }\n",
       "</style>\n",
       "<table border=\"1\" class=\"dataframe\">\n",
       "  <thead>\n",
       "    <tr style=\"text-align: right;\">\n",
       "      <th></th>\n",
       "      <th>Place_Id</th>\n",
       "      <th>Place_Name</th>\n",
       "      <th>Description</th>\n",
       "      <th>Category</th>\n",
       "      <th>City</th>\n",
       "      <th>Price</th>\n",
       "      <th>Rating</th>\n",
       "    </tr>\n",
       "  </thead>\n",
       "  <tbody>\n",
       "    <tr>\n",
       "      <th>0</th>\n",
       "      <td>1</td>\n",
       "      <td>Monumen Nasional</td>\n",
       "      <td>Monumen Nasional atau yang populer disingkat d...</td>\n",
       "      <td>Budaya</td>\n",
       "      <td>Jakarta</td>\n",
       "      <td>20000</td>\n",
       "      <td>4.6</td>\n",
       "    </tr>\n",
       "    <tr>\n",
       "      <th>1</th>\n",
       "      <td>2</td>\n",
       "      <td>Kota Tua</td>\n",
       "      <td>Kota tua di Jakarta, yang juga bernama Kota Tu...</td>\n",
       "      <td>Budaya</td>\n",
       "      <td>Jakarta</td>\n",
       "      <td>0</td>\n",
       "      <td>4.6</td>\n",
       "    </tr>\n",
       "    <tr>\n",
       "      <th>2</th>\n",
       "      <td>3</td>\n",
       "      <td>Dunia Fantasi</td>\n",
       "      <td>Dunia Fantasi atau disebut juga Dufan adalah t...</td>\n",
       "      <td>Taman Hiburan</td>\n",
       "      <td>Jakarta</td>\n",
       "      <td>270000</td>\n",
       "      <td>4.6</td>\n",
       "    </tr>\n",
       "    <tr>\n",
       "      <th>3</th>\n",
       "      <td>4</td>\n",
       "      <td>Taman Mini Indonesia Indah (TMII)</td>\n",
       "      <td>Taman Mini Indonesia Indah merupakan suatu kaw...</td>\n",
       "      <td>Taman Hiburan</td>\n",
       "      <td>Jakarta</td>\n",
       "      <td>10000</td>\n",
       "      <td>4.5</td>\n",
       "    </tr>\n",
       "    <tr>\n",
       "      <th>4</th>\n",
       "      <td>5</td>\n",
       "      <td>Atlantis Water Adventure</td>\n",
       "      <td>Atlantis Water Adventure atau dikenal dengan A...</td>\n",
       "      <td>Taman Hiburan</td>\n",
       "      <td>Jakarta</td>\n",
       "      <td>94000</td>\n",
       "      <td>4.5</td>\n",
       "    </tr>\n",
       "    <tr>\n",
       "      <th>...</th>\n",
       "      <td>...</td>\n",
       "      <td>...</td>\n",
       "      <td>...</td>\n",
       "      <td>...</td>\n",
       "      <td>...</td>\n",
       "      <td>...</td>\n",
       "      <td>...</td>\n",
       "    </tr>\n",
       "    <tr>\n",
       "      <th>432</th>\n",
       "      <td>433</td>\n",
       "      <td>Museum Mpu Tantular</td>\n",
       "      <td>Museum Negeri Mpu Tantular adalah sebuah museu...</td>\n",
       "      <td>Budaya</td>\n",
       "      <td>Surabaya</td>\n",
       "      <td>2000</td>\n",
       "      <td>4.4</td>\n",
       "    </tr>\n",
       "    <tr>\n",
       "      <th>433</th>\n",
       "      <td>434</td>\n",
       "      <td>Taman Bungkul</td>\n",
       "      <td>Taman Bungkul adalah taman wisata kota yang te...</td>\n",
       "      <td>Taman Hiburan</td>\n",
       "      <td>Surabaya</td>\n",
       "      <td>0</td>\n",
       "      <td>4.6</td>\n",
       "    </tr>\n",
       "    <tr>\n",
       "      <th>434</th>\n",
       "      <td>435</td>\n",
       "      <td>Taman Air Mancur Menari Kenjeran</td>\n",
       "      <td>Air mancur menari atau dancing fountain juga a...</td>\n",
       "      <td>Taman Hiburan</td>\n",
       "      <td>Surabaya</td>\n",
       "      <td>0</td>\n",
       "      <td>4.4</td>\n",
       "    </tr>\n",
       "    <tr>\n",
       "      <th>435</th>\n",
       "      <td>436</td>\n",
       "      <td>Taman Flora Bratang Surabaya</td>\n",
       "      <td>Taman Flora adalah salah satu taman kota di Su...</td>\n",
       "      <td>Taman Hiburan</td>\n",
       "      <td>Surabaya</td>\n",
       "      <td>0</td>\n",
       "      <td>4.6</td>\n",
       "    </tr>\n",
       "    <tr>\n",
       "      <th>436</th>\n",
       "      <td>437</td>\n",
       "      <td>Gereja Perawan Maria Tak Berdosa Surabaya</td>\n",
       "      <td>Gereja Katolik Kelahiran Santa Perawan Maria m...</td>\n",
       "      <td>Tempat Ibadah</td>\n",
       "      <td>Surabaya</td>\n",
       "      <td>10000</td>\n",
       "      <td>4.8</td>\n",
       "    </tr>\n",
       "  </tbody>\n",
       "</table>\n",
       "<p>437 rows × 7 columns</p>\n",
       "</div>"
      ],
      "text/plain": [
       "     Place_Id                                 Place_Name  \\\n",
       "0           1                           Monumen Nasional   \n",
       "1           2                                   Kota Tua   \n",
       "2           3                              Dunia Fantasi   \n",
       "3           4          Taman Mini Indonesia Indah (TMII)   \n",
       "4           5                   Atlantis Water Adventure   \n",
       "..        ...                                        ...   \n",
       "432       433                        Museum Mpu Tantular   \n",
       "433       434                              Taman Bungkul   \n",
       "434       435           Taman Air Mancur Menari Kenjeran   \n",
       "435       436               Taman Flora Bratang Surabaya   \n",
       "436       437  Gereja Perawan Maria Tak Berdosa Surabaya   \n",
       "\n",
       "                                           Description       Category  \\\n",
       "0    Monumen Nasional atau yang populer disingkat d...         Budaya   \n",
       "1    Kota tua di Jakarta, yang juga bernama Kota Tu...         Budaya   \n",
       "2    Dunia Fantasi atau disebut juga Dufan adalah t...  Taman Hiburan   \n",
       "3    Taman Mini Indonesia Indah merupakan suatu kaw...  Taman Hiburan   \n",
       "4    Atlantis Water Adventure atau dikenal dengan A...  Taman Hiburan   \n",
       "..                                                 ...            ...   \n",
       "432  Museum Negeri Mpu Tantular adalah sebuah museu...         Budaya   \n",
       "433  Taman Bungkul adalah taman wisata kota yang te...  Taman Hiburan   \n",
       "434  Air mancur menari atau dancing fountain juga a...  Taman Hiburan   \n",
       "435  Taman Flora adalah salah satu taman kota di Su...  Taman Hiburan   \n",
       "436  Gereja Katolik Kelahiran Santa Perawan Maria m...  Tempat Ibadah   \n",
       "\n",
       "         City   Price  Rating  \n",
       "0     Jakarta   20000     4.6  \n",
       "1     Jakarta       0     4.6  \n",
       "2     Jakarta  270000     4.6  \n",
       "3     Jakarta   10000     4.5  \n",
       "4     Jakarta   94000     4.5  \n",
       "..        ...     ...     ...  \n",
       "432  Surabaya    2000     4.4  \n",
       "433  Surabaya       0     4.6  \n",
       "434  Surabaya       0     4.4  \n",
       "435  Surabaya       0     4.6  \n",
       "436  Surabaya   10000     4.8  \n",
       "\n",
       "[437 rows x 7 columns]"
      ]
     },
     "execution_count": 18,
     "metadata": {},
     "output_type": "execute_result"
    }
   ],
   "source": [
    "df_destination.drop([\n",
    "    \"Time_Minutes\", \n",
    "    \"Coordinate\", \n",
    "    \"Lat\", \n",
    "    \"Long\", \n",
    "    \"Unnamed: 11\", \n",
    "    \"Unnamed: 12\"\n",
    "], axis=1, inplace=True)\n",
    "df_destination"
   ]
  },
  {
   "cell_type": "markdown",
   "metadata": {},
   "source": [
    "Menggabungkan data rating dengan data user"
   ]
  },
  {
   "cell_type": "code",
   "execution_count": 19,
   "metadata": {},
   "outputs": [
    {
     "data": {
      "text/html": [
       "<div>\n",
       "<style scoped>\n",
       "    .dataframe tbody tr th:only-of-type {\n",
       "        vertical-align: middle;\n",
       "    }\n",
       "\n",
       "    .dataframe tbody tr th {\n",
       "        vertical-align: top;\n",
       "    }\n",
       "\n",
       "    .dataframe thead th {\n",
       "        text-align: right;\n",
       "    }\n",
       "</style>\n",
       "<table border=\"1\" class=\"dataframe\">\n",
       "  <thead>\n",
       "    <tr style=\"text-align: right;\">\n",
       "      <th></th>\n",
       "      <th>User_Id</th>\n",
       "      <th>Place_Id</th>\n",
       "      <th>Place_Ratings</th>\n",
       "      <th>Location</th>\n",
       "      <th>Age</th>\n",
       "    </tr>\n",
       "  </thead>\n",
       "  <tbody>\n",
       "    <tr>\n",
       "      <th>0</th>\n",
       "      <td>1</td>\n",
       "      <td>179</td>\n",
       "      <td>3</td>\n",
       "      <td>Semarang, Jawa Tengah</td>\n",
       "      <td>20</td>\n",
       "    </tr>\n",
       "    <tr>\n",
       "      <th>1</th>\n",
       "      <td>1</td>\n",
       "      <td>344</td>\n",
       "      <td>2</td>\n",
       "      <td>Semarang, Jawa Tengah</td>\n",
       "      <td>20</td>\n",
       "    </tr>\n",
       "    <tr>\n",
       "      <th>2</th>\n",
       "      <td>1</td>\n",
       "      <td>5</td>\n",
       "      <td>5</td>\n",
       "      <td>Semarang, Jawa Tengah</td>\n",
       "      <td>20</td>\n",
       "    </tr>\n",
       "    <tr>\n",
       "      <th>3</th>\n",
       "      <td>1</td>\n",
       "      <td>373</td>\n",
       "      <td>3</td>\n",
       "      <td>Semarang, Jawa Tengah</td>\n",
       "      <td>20</td>\n",
       "    </tr>\n",
       "    <tr>\n",
       "      <th>4</th>\n",
       "      <td>1</td>\n",
       "      <td>101</td>\n",
       "      <td>4</td>\n",
       "      <td>Semarang, Jawa Tengah</td>\n",
       "      <td>20</td>\n",
       "    </tr>\n",
       "  </tbody>\n",
       "</table>\n",
       "</div>"
      ],
      "text/plain": [
       "   User_Id  Place_Id  Place_Ratings               Location  Age\n",
       "0        1       179              3  Semarang, Jawa Tengah   20\n",
       "1        1       344              2  Semarang, Jawa Tengah   20\n",
       "2        1         5              5  Semarang, Jawa Tengah   20\n",
       "3        1       373              3  Semarang, Jawa Tengah   20\n",
       "4        1       101              4  Semarang, Jawa Tengah   20"
      ]
     },
     "execution_count": 19,
     "metadata": {},
     "output_type": "execute_result"
    }
   ],
   "source": [
    "data_destinasi = df_destination.copy()\n",
    "data_rating_user = df_rating.copy()\n",
    "\n",
    "data_rekomendasi = pd.merge(data_rating_user, df_user, on='User_Id')\n",
    "data_rekomendasi.head()"
   ]
  },
  {
   "cell_type": "markdown",
   "metadata": {},
   "source": [
    "Menggabungkan data dengan data destinasi"
   ]
  },
  {
   "cell_type": "code",
   "execution_count": 20,
   "metadata": {},
   "outputs": [
    {
     "data": {
      "text/html": [
       "<div>\n",
       "<style scoped>\n",
       "    .dataframe tbody tr th:only-of-type {\n",
       "        vertical-align: middle;\n",
       "    }\n",
       "\n",
       "    .dataframe tbody tr th {\n",
       "        vertical-align: top;\n",
       "    }\n",
       "\n",
       "    .dataframe thead th {\n",
       "        text-align: right;\n",
       "    }\n",
       "</style>\n",
       "<table border=\"1\" class=\"dataframe\">\n",
       "  <thead>\n",
       "    <tr style=\"text-align: right;\">\n",
       "      <th></th>\n",
       "      <th>User_Id</th>\n",
       "      <th>Place_Id</th>\n",
       "      <th>Place_Ratings</th>\n",
       "      <th>Location</th>\n",
       "      <th>Age</th>\n",
       "      <th>Place_Name</th>\n",
       "      <th>Description</th>\n",
       "      <th>Category</th>\n",
       "      <th>City</th>\n",
       "      <th>Price</th>\n",
       "      <th>Rating</th>\n",
       "    </tr>\n",
       "  </thead>\n",
       "  <tbody>\n",
       "    <tr>\n",
       "      <th>0</th>\n",
       "      <td>1</td>\n",
       "      <td>179</td>\n",
       "      <td>3</td>\n",
       "      <td>Semarang, Jawa Tengah</td>\n",
       "      <td>20</td>\n",
       "      <td>Candi Ratu Boko</td>\n",
       "      <td>Situs Ratu Baka atau Candi Boko (Hanacaraka:ꦕꦤ...</td>\n",
       "      <td>Budaya</td>\n",
       "      <td>Yogyakarta</td>\n",
       "      <td>75000</td>\n",
       "      <td>4.6</td>\n",
       "    </tr>\n",
       "    <tr>\n",
       "      <th>1</th>\n",
       "      <td>1</td>\n",
       "      <td>344</td>\n",
       "      <td>2</td>\n",
       "      <td>Semarang, Jawa Tengah</td>\n",
       "      <td>20</td>\n",
       "      <td>Pantai Marina</td>\n",
       "      <td>Pantai Marina (bahasa Jawa: ꦥꦱꦶꦱꦶꦂ​ꦩꦫꦶꦤ, trans...</td>\n",
       "      <td>Bahari</td>\n",
       "      <td>Semarang</td>\n",
       "      <td>3000</td>\n",
       "      <td>4.1</td>\n",
       "    </tr>\n",
       "    <tr>\n",
       "      <th>2</th>\n",
       "      <td>1</td>\n",
       "      <td>5</td>\n",
       "      <td>5</td>\n",
       "      <td>Semarang, Jawa Tengah</td>\n",
       "      <td>20</td>\n",
       "      <td>Atlantis Water Adventure</td>\n",
       "      <td>Atlantis Water Adventure atau dikenal dengan A...</td>\n",
       "      <td>Taman Hiburan</td>\n",
       "      <td>Jakarta</td>\n",
       "      <td>94000</td>\n",
       "      <td>4.5</td>\n",
       "    </tr>\n",
       "    <tr>\n",
       "      <th>3</th>\n",
       "      <td>1</td>\n",
       "      <td>373</td>\n",
       "      <td>3</td>\n",
       "      <td>Semarang, Jawa Tengah</td>\n",
       "      <td>20</td>\n",
       "      <td>Museum Kereta Ambarawa</td>\n",
       "      <td>Museum Kereta Api Ambarawa (bahasa Inggris: In...</td>\n",
       "      <td>Budaya</td>\n",
       "      <td>Semarang</td>\n",
       "      <td>10000</td>\n",
       "      <td>4.5</td>\n",
       "    </tr>\n",
       "    <tr>\n",
       "      <th>4</th>\n",
       "      <td>1</td>\n",
       "      <td>101</td>\n",
       "      <td>4</td>\n",
       "      <td>Semarang, Jawa Tengah</td>\n",
       "      <td>20</td>\n",
       "      <td>Kampung Wisata Sosro Menduran</td>\n",
       "      <td>Kampung wisata Sosromenduran merupakan kampung...</td>\n",
       "      <td>Budaya</td>\n",
       "      <td>Yogyakarta</td>\n",
       "      <td>0</td>\n",
       "      <td>4.0</td>\n",
       "    </tr>\n",
       "  </tbody>\n",
       "</table>\n",
       "</div>"
      ],
      "text/plain": [
       "   User_Id  Place_Id  Place_Ratings               Location  Age  \\\n",
       "0        1       179              3  Semarang, Jawa Tengah   20   \n",
       "1        1       344              2  Semarang, Jawa Tengah   20   \n",
       "2        1         5              5  Semarang, Jawa Tengah   20   \n",
       "3        1       373              3  Semarang, Jawa Tengah   20   \n",
       "4        1       101              4  Semarang, Jawa Tengah   20   \n",
       "\n",
       "                      Place_Name  \\\n",
       "0                Candi Ratu Boko   \n",
       "1                  Pantai Marina   \n",
       "2       Atlantis Water Adventure   \n",
       "3         Museum Kereta Ambarawa   \n",
       "4  Kampung Wisata Sosro Menduran   \n",
       "\n",
       "                                         Description       Category  \\\n",
       "0  Situs Ratu Baka atau Candi Boko (Hanacaraka:ꦕꦤ...         Budaya   \n",
       "1  Pantai Marina (bahasa Jawa: ꦥꦱꦶꦱꦶꦂ​ꦩꦫꦶꦤ, trans...         Bahari   \n",
       "2  Atlantis Water Adventure atau dikenal dengan A...  Taman Hiburan   \n",
       "3  Museum Kereta Api Ambarawa (bahasa Inggris: In...         Budaya   \n",
       "4  Kampung wisata Sosromenduran merupakan kampung...         Budaya   \n",
       "\n",
       "         City  Price  Rating  \n",
       "0  Yogyakarta  75000     4.6  \n",
       "1    Semarang   3000     4.1  \n",
       "2     Jakarta  94000     4.5  \n",
       "3    Semarang  10000     4.5  \n",
       "4  Yogyakarta      0     4.0  "
      ]
     },
     "execution_count": 20,
     "metadata": {},
     "output_type": "execute_result"
    }
   ],
   "source": [
    "data_rekomendasi = pd.merge(data_rekomendasi, data_destinasi, on='Place_Id')\n",
    "data_rekomendasi.head()"
   ]
  },
  {
   "cell_type": "markdown",
   "metadata": {},
   "source": [
    "Mengubah nama kolom rating agar lebih mudah dibedakan antara rating dari user dengan rating rata-rata"
   ]
  },
  {
   "cell_type": "code",
   "execution_count": 21,
   "metadata": {},
   "outputs": [
    {
     "data": {
      "text/html": [
       "<div>\n",
       "<style scoped>\n",
       "    .dataframe tbody tr th:only-of-type {\n",
       "        vertical-align: middle;\n",
       "    }\n",
       "\n",
       "    .dataframe tbody tr th {\n",
       "        vertical-align: top;\n",
       "    }\n",
       "\n",
       "    .dataframe thead th {\n",
       "        text-align: right;\n",
       "    }\n",
       "</style>\n",
       "<table border=\"1\" class=\"dataframe\">\n",
       "  <thead>\n",
       "    <tr style=\"text-align: right;\">\n",
       "      <th></th>\n",
       "      <th>User_Id</th>\n",
       "      <th>Place_Id</th>\n",
       "      <th>Rating_User</th>\n",
       "      <th>Location</th>\n",
       "      <th>Age</th>\n",
       "      <th>Place_Name</th>\n",
       "      <th>Description</th>\n",
       "      <th>Category</th>\n",
       "      <th>City</th>\n",
       "      <th>Price</th>\n",
       "      <th>Rating Destination</th>\n",
       "    </tr>\n",
       "  </thead>\n",
       "  <tbody>\n",
       "    <tr>\n",
       "      <th>0</th>\n",
       "      <td>1</td>\n",
       "      <td>179</td>\n",
       "      <td>3</td>\n",
       "      <td>Semarang, Jawa Tengah</td>\n",
       "      <td>20</td>\n",
       "      <td>Candi Ratu Boko</td>\n",
       "      <td>Situs Ratu Baka atau Candi Boko (Hanacaraka:ꦕꦤ...</td>\n",
       "      <td>Budaya</td>\n",
       "      <td>Yogyakarta</td>\n",
       "      <td>75000</td>\n",
       "      <td>4.6</td>\n",
       "    </tr>\n",
       "    <tr>\n",
       "      <th>1</th>\n",
       "      <td>1</td>\n",
       "      <td>344</td>\n",
       "      <td>2</td>\n",
       "      <td>Semarang, Jawa Tengah</td>\n",
       "      <td>20</td>\n",
       "      <td>Pantai Marina</td>\n",
       "      <td>Pantai Marina (bahasa Jawa: ꦥꦱꦶꦱꦶꦂ​ꦩꦫꦶꦤ, trans...</td>\n",
       "      <td>Bahari</td>\n",
       "      <td>Semarang</td>\n",
       "      <td>3000</td>\n",
       "      <td>4.1</td>\n",
       "    </tr>\n",
       "    <tr>\n",
       "      <th>2</th>\n",
       "      <td>1</td>\n",
       "      <td>5</td>\n",
       "      <td>5</td>\n",
       "      <td>Semarang, Jawa Tengah</td>\n",
       "      <td>20</td>\n",
       "      <td>Atlantis Water Adventure</td>\n",
       "      <td>Atlantis Water Adventure atau dikenal dengan A...</td>\n",
       "      <td>Taman Hiburan</td>\n",
       "      <td>Jakarta</td>\n",
       "      <td>94000</td>\n",
       "      <td>4.5</td>\n",
       "    </tr>\n",
       "    <tr>\n",
       "      <th>3</th>\n",
       "      <td>1</td>\n",
       "      <td>373</td>\n",
       "      <td>3</td>\n",
       "      <td>Semarang, Jawa Tengah</td>\n",
       "      <td>20</td>\n",
       "      <td>Museum Kereta Ambarawa</td>\n",
       "      <td>Museum Kereta Api Ambarawa (bahasa Inggris: In...</td>\n",
       "      <td>Budaya</td>\n",
       "      <td>Semarang</td>\n",
       "      <td>10000</td>\n",
       "      <td>4.5</td>\n",
       "    </tr>\n",
       "    <tr>\n",
       "      <th>4</th>\n",
       "      <td>1</td>\n",
       "      <td>101</td>\n",
       "      <td>4</td>\n",
       "      <td>Semarang, Jawa Tengah</td>\n",
       "      <td>20</td>\n",
       "      <td>Kampung Wisata Sosro Menduran</td>\n",
       "      <td>Kampung wisata Sosromenduran merupakan kampung...</td>\n",
       "      <td>Budaya</td>\n",
       "      <td>Yogyakarta</td>\n",
       "      <td>0</td>\n",
       "      <td>4.0</td>\n",
       "    </tr>\n",
       "  </tbody>\n",
       "</table>\n",
       "</div>"
      ],
      "text/plain": [
       "   User_Id  Place_Id  Rating_User               Location  Age  \\\n",
       "0        1       179            3  Semarang, Jawa Tengah   20   \n",
       "1        1       344            2  Semarang, Jawa Tengah   20   \n",
       "2        1         5            5  Semarang, Jawa Tengah   20   \n",
       "3        1       373            3  Semarang, Jawa Tengah   20   \n",
       "4        1       101            4  Semarang, Jawa Tengah   20   \n",
       "\n",
       "                      Place_Name  \\\n",
       "0                Candi Ratu Boko   \n",
       "1                  Pantai Marina   \n",
       "2       Atlantis Water Adventure   \n",
       "3         Museum Kereta Ambarawa   \n",
       "4  Kampung Wisata Sosro Menduran   \n",
       "\n",
       "                                         Description       Category  \\\n",
       "0  Situs Ratu Baka atau Candi Boko (Hanacaraka:ꦕꦤ...         Budaya   \n",
       "1  Pantai Marina (bahasa Jawa: ꦥꦱꦶꦱꦶꦂ​ꦩꦫꦶꦤ, trans...         Bahari   \n",
       "2  Atlantis Water Adventure atau dikenal dengan A...  Taman Hiburan   \n",
       "3  Museum Kereta Api Ambarawa (bahasa Inggris: In...         Budaya   \n",
       "4  Kampung wisata Sosromenduran merupakan kampung...         Budaya   \n",
       "\n",
       "         City  Price  Rating Destination  \n",
       "0  Yogyakarta  75000                 4.6  \n",
       "1    Semarang   3000                 4.1  \n",
       "2     Jakarta  94000                 4.5  \n",
       "3    Semarang  10000                 4.5  \n",
       "4  Yogyakarta      0                 4.0  "
      ]
     },
     "execution_count": 21,
     "metadata": {},
     "output_type": "execute_result"
    }
   ],
   "source": [
    "data_rekomendasi.rename(columns={\n",
    "    \"Place_Ratings\": \"Rating_User\",\n",
    "    \"Rating\": \"Rating Destination\"\n",
    "}, inplace=True)\n",
    "data_rekomendasi.head()"
   ]
  },
  {
   "cell_type": "markdown",
   "metadata": {},
   "source": [
    "Mengecek apakah terdapat data yang duplikat"
   ]
  },
  {
   "cell_type": "code",
   "execution_count": 22,
   "metadata": {},
   "outputs": [
    {
     "data": {
      "text/plain": [
       "79"
      ]
     },
     "execution_count": 22,
     "metadata": {},
     "output_type": "execute_result"
    }
   ],
   "source": [
    "data_rekomendasi.duplicated().sum()"
   ]
  },
  {
   "cell_type": "markdown",
   "metadata": {},
   "source": [
    "Menghapus data yang duplikat"
   ]
  },
  {
   "cell_type": "code",
   "execution_count": 23,
   "metadata": {},
   "outputs": [
    {
     "data": {
      "text/plain": [
       "(9921, 11)"
      ]
     },
     "execution_count": 23,
     "metadata": {},
     "output_type": "execute_result"
    }
   ],
   "source": [
    "data_rekomendasi.drop_duplicates(inplace=True)\n",
    "data_rekomendasi.shape"
   ]
  },
  {
   "cell_type": "markdown",
   "metadata": {},
   "source": [
    "## Exploratory Data Analysis"
   ]
  },
  {
   "cell_type": "markdown",
   "metadata": {},
   "source": [
    "Melihat jumlah kategori wisata di setiap kota"
   ]
  },
  {
   "cell_type": "code",
   "execution_count": 24,
   "metadata": {},
   "outputs": [
    {
     "data": {
      "application/vnd.plotly.v1+json": {
       "config": {
        "plotlyServerURL": "https://plot.ly"
       },
       "data": [
        {
         "alignmentgroup": "True",
         "hovertemplate": "Category=Budaya<br>City=%{x}<br>Jumlah Destinasi=%{text}<extra></extra>",
         "legendgroup": "Budaya",
         "marker": {
          "color": "#636efa",
          "pattern": {
           "shape": ""
          }
         },
         "name": "Budaya",
         "offsetgroup": "Budaya",
         "orientation": "v",
         "showlegend": true,
         "text": [
          529,
          719,
          349,
          402,
          666
         ],
         "textposition": "auto",
         "type": "bar",
         "x": [
          "Bandung",
          "Jakarta",
          "Semarang",
          "Surabaya",
          "Yogyakarta"
         ],
         "xaxis": "x",
         "y": [
          529,
          719,
          349,
          402,
          666
         ],
         "yaxis": "y"
        },
        {
         "alignmentgroup": "True",
         "hovertemplate": "Category=Cagar Alam<br>City=%{x}<br>Jumlah Destinasi=%{text}<extra></extra>",
         "legendgroup": "Cagar Alam",
         "marker": {
          "color": "#EF553B",
          "pattern": {
           "shape": ""
          }
         },
         "name": "Cagar Alam",
         "offsetgroup": "Cagar Alam",
         "orientation": "v",
         "showlegend": true,
         "text": [
          1230,
          75,
          456,
          111,
          525
         ],
         "textposition": "auto",
         "type": "bar",
         "x": [
          "Bandung",
          "Jakarta",
          "Semarang",
          "Surabaya",
          "Yogyakarta"
         ],
         "xaxis": "x",
         "y": [
          1230,
          75,
          456,
          111,
          525
         ],
         "yaxis": "y"
        },
        {
         "alignmentgroup": "True",
         "hovertemplate": "Category=Pusat Perbelanjaan<br>City=%{x}<br>Jumlah Destinasi=%{text}<extra></extra>",
         "legendgroup": "Pusat Perbelanjaan",
         "marker": {
          "color": "#00cc96",
          "pattern": {
           "shape": ""
          }
         },
         "name": "Pusat Perbelanjaan",
         "offsetgroup": "Pusat Perbelanjaan",
         "orientation": "v",
         "showlegend": true,
         "text": [
          21,
          251,
          32,
          77
         ],
         "textposition": "auto",
         "type": "bar",
         "x": [
          "Bandung",
          "Jakarta",
          "Surabaya",
          "Yogyakarta"
         ],
         "xaxis": "x",
         "y": [
          21,
          251,
          32,
          77
         ],
         "yaxis": "y"
        },
        {
         "alignmentgroup": "True",
         "hovertemplate": "Category=Taman Hiburan<br>City=%{x}<br>Jumlah Destinasi=%{text}<extra></extra>",
         "legendgroup": "Taman Hiburan",
         "marker": {
          "color": "#ab63fa",
          "pattern": {
           "shape": ""
          }
         },
         "name": "Taman Hiburan",
         "offsetgroup": "Taman Hiburan",
         "orientation": "v",
         "showlegend": true,
         "text": [
          861,
          614,
          352,
          396,
          801
         ],
         "textposition": "auto",
         "type": "bar",
         "x": [
          "Bandung",
          "Jakarta",
          "Semarang",
          "Surabaya",
          "Yogyakarta"
         ],
         "xaxis": "x",
         "y": [
          861,
          614,
          352,
          396,
          801
         ],
         "yaxis": "y"
        },
        {
         "alignmentgroup": "True",
         "hovertemplate": "Category=Tempat Ibadah<br>City=%{x}<br>Jumlah Destinasi=%{text}<extra></extra>",
         "legendgroup": "Tempat Ibadah",
         "marker": {
          "color": "#FFA15A",
          "pattern": {
           "shape": ""
          }
         },
         "name": "Tempat Ibadah",
         "offsetgroup": "Tempat Ibadah",
         "orientation": "v",
         "showlegend": true,
         "text": [
          181,
          75,
          55,
          71
         ],
         "textposition": "auto",
         "type": "bar",
         "x": [
          "Bandung",
          "Jakarta",
          "Semarang",
          "Surabaya"
         ],
         "xaxis": "x",
         "y": [
          181,
          75,
          55,
          71
         ],
         "yaxis": "y"
        },
        {
         "alignmentgroup": "True",
         "hovertemplate": "Category=Bahari<br>City=%{x}<br>Jumlah Destinasi=%{text}<extra></extra>",
         "legendgroup": "Bahari",
         "marker": {
          "color": "#19d3f3",
          "pattern": {
           "shape": ""
          }
         },
         "name": "Bahari",
         "offsetgroup": "Bahari",
         "orientation": "v",
         "showlegend": true,
         "text": [
          168,
          99,
          26,
          779
         ],
         "textposition": "auto",
         "type": "bar",
         "x": [
          "Jakarta",
          "Semarang",
          "Surabaya",
          "Yogyakarta"
         ],
         "xaxis": "x",
         "y": [
          168,
          99,
          26,
          779
         ],
         "yaxis": "y"
        }
       ],
       "layout": {
        "barmode": "group",
        "legend": {
         "title": {
          "text": "Category"
         },
         "tracegroupgap": 0
        },
        "template": {
         "data": {
          "bar": [
           {
            "error_x": {
             "color": "#2a3f5f"
            },
            "error_y": {
             "color": "#2a3f5f"
            },
            "marker": {
             "line": {
              "color": "#E5ECF6",
              "width": 0.5
             },
             "pattern": {
              "fillmode": "overlay",
              "size": 10,
              "solidity": 0.2
             }
            },
            "type": "bar"
           }
          ],
          "barpolar": [
           {
            "marker": {
             "line": {
              "color": "#E5ECF6",
              "width": 0.5
             },
             "pattern": {
              "fillmode": "overlay",
              "size": 10,
              "solidity": 0.2
             }
            },
            "type": "barpolar"
           }
          ],
          "carpet": [
           {
            "aaxis": {
             "endlinecolor": "#2a3f5f",
             "gridcolor": "white",
             "linecolor": "white",
             "minorgridcolor": "white",
             "startlinecolor": "#2a3f5f"
            },
            "baxis": {
             "endlinecolor": "#2a3f5f",
             "gridcolor": "white",
             "linecolor": "white",
             "minorgridcolor": "white",
             "startlinecolor": "#2a3f5f"
            },
            "type": "carpet"
           }
          ],
          "choropleth": [
           {
            "colorbar": {
             "outlinewidth": 0,
             "ticks": ""
            },
            "type": "choropleth"
           }
          ],
          "contour": [
           {
            "colorbar": {
             "outlinewidth": 0,
             "ticks": ""
            },
            "colorscale": [
             [
              0,
              "#0d0887"
             ],
             [
              0.1111111111111111,
              "#46039f"
             ],
             [
              0.2222222222222222,
              "#7201a8"
             ],
             [
              0.3333333333333333,
              "#9c179e"
             ],
             [
              0.4444444444444444,
              "#bd3786"
             ],
             [
              0.5555555555555556,
              "#d8576b"
             ],
             [
              0.6666666666666666,
              "#ed7953"
             ],
             [
              0.7777777777777778,
              "#fb9f3a"
             ],
             [
              0.8888888888888888,
              "#fdca26"
             ],
             [
              1,
              "#f0f921"
             ]
            ],
            "type": "contour"
           }
          ],
          "contourcarpet": [
           {
            "colorbar": {
             "outlinewidth": 0,
             "ticks": ""
            },
            "type": "contourcarpet"
           }
          ],
          "heatmap": [
           {
            "colorbar": {
             "outlinewidth": 0,
             "ticks": ""
            },
            "colorscale": [
             [
              0,
              "#0d0887"
             ],
             [
              0.1111111111111111,
              "#46039f"
             ],
             [
              0.2222222222222222,
              "#7201a8"
             ],
             [
              0.3333333333333333,
              "#9c179e"
             ],
             [
              0.4444444444444444,
              "#bd3786"
             ],
             [
              0.5555555555555556,
              "#d8576b"
             ],
             [
              0.6666666666666666,
              "#ed7953"
             ],
             [
              0.7777777777777778,
              "#fb9f3a"
             ],
             [
              0.8888888888888888,
              "#fdca26"
             ],
             [
              1,
              "#f0f921"
             ]
            ],
            "type": "heatmap"
           }
          ],
          "heatmapgl": [
           {
            "colorbar": {
             "outlinewidth": 0,
             "ticks": ""
            },
            "colorscale": [
             [
              0,
              "#0d0887"
             ],
             [
              0.1111111111111111,
              "#46039f"
             ],
             [
              0.2222222222222222,
              "#7201a8"
             ],
             [
              0.3333333333333333,
              "#9c179e"
             ],
             [
              0.4444444444444444,
              "#bd3786"
             ],
             [
              0.5555555555555556,
              "#d8576b"
             ],
             [
              0.6666666666666666,
              "#ed7953"
             ],
             [
              0.7777777777777778,
              "#fb9f3a"
             ],
             [
              0.8888888888888888,
              "#fdca26"
             ],
             [
              1,
              "#f0f921"
             ]
            ],
            "type": "heatmapgl"
           }
          ],
          "histogram": [
           {
            "marker": {
             "pattern": {
              "fillmode": "overlay",
              "size": 10,
              "solidity": 0.2
             }
            },
            "type": "histogram"
           }
          ],
          "histogram2d": [
           {
            "colorbar": {
             "outlinewidth": 0,
             "ticks": ""
            },
            "colorscale": [
             [
              0,
              "#0d0887"
             ],
             [
              0.1111111111111111,
              "#46039f"
             ],
             [
              0.2222222222222222,
              "#7201a8"
             ],
             [
              0.3333333333333333,
              "#9c179e"
             ],
             [
              0.4444444444444444,
              "#bd3786"
             ],
             [
              0.5555555555555556,
              "#d8576b"
             ],
             [
              0.6666666666666666,
              "#ed7953"
             ],
             [
              0.7777777777777778,
              "#fb9f3a"
             ],
             [
              0.8888888888888888,
              "#fdca26"
             ],
             [
              1,
              "#f0f921"
             ]
            ],
            "type": "histogram2d"
           }
          ],
          "histogram2dcontour": [
           {
            "colorbar": {
             "outlinewidth": 0,
             "ticks": ""
            },
            "colorscale": [
             [
              0,
              "#0d0887"
             ],
             [
              0.1111111111111111,
              "#46039f"
             ],
             [
              0.2222222222222222,
              "#7201a8"
             ],
             [
              0.3333333333333333,
              "#9c179e"
             ],
             [
              0.4444444444444444,
              "#bd3786"
             ],
             [
              0.5555555555555556,
              "#d8576b"
             ],
             [
              0.6666666666666666,
              "#ed7953"
             ],
             [
              0.7777777777777778,
              "#fb9f3a"
             ],
             [
              0.8888888888888888,
              "#fdca26"
             ],
             [
              1,
              "#f0f921"
             ]
            ],
            "type": "histogram2dcontour"
           }
          ],
          "mesh3d": [
           {
            "colorbar": {
             "outlinewidth": 0,
             "ticks": ""
            },
            "type": "mesh3d"
           }
          ],
          "parcoords": [
           {
            "line": {
             "colorbar": {
              "outlinewidth": 0,
              "ticks": ""
             }
            },
            "type": "parcoords"
           }
          ],
          "pie": [
           {
            "automargin": true,
            "type": "pie"
           }
          ],
          "scatter": [
           {
            "fillpattern": {
             "fillmode": "overlay",
             "size": 10,
             "solidity": 0.2
            },
            "type": "scatter"
           }
          ],
          "scatter3d": [
           {
            "line": {
             "colorbar": {
              "outlinewidth": 0,
              "ticks": ""
             }
            },
            "marker": {
             "colorbar": {
              "outlinewidth": 0,
              "ticks": ""
             }
            },
            "type": "scatter3d"
           }
          ],
          "scattercarpet": [
           {
            "marker": {
             "colorbar": {
              "outlinewidth": 0,
              "ticks": ""
             }
            },
            "type": "scattercarpet"
           }
          ],
          "scattergeo": [
           {
            "marker": {
             "colorbar": {
              "outlinewidth": 0,
              "ticks": ""
             }
            },
            "type": "scattergeo"
           }
          ],
          "scattergl": [
           {
            "marker": {
             "colorbar": {
              "outlinewidth": 0,
              "ticks": ""
             }
            },
            "type": "scattergl"
           }
          ],
          "scattermapbox": [
           {
            "marker": {
             "colorbar": {
              "outlinewidth": 0,
              "ticks": ""
             }
            },
            "type": "scattermapbox"
           }
          ],
          "scatterpolar": [
           {
            "marker": {
             "colorbar": {
              "outlinewidth": 0,
              "ticks": ""
             }
            },
            "type": "scatterpolar"
           }
          ],
          "scatterpolargl": [
           {
            "marker": {
             "colorbar": {
              "outlinewidth": 0,
              "ticks": ""
             }
            },
            "type": "scatterpolargl"
           }
          ],
          "scatterternary": [
           {
            "marker": {
             "colorbar": {
              "outlinewidth": 0,
              "ticks": ""
             }
            },
            "type": "scatterternary"
           }
          ],
          "surface": [
           {
            "colorbar": {
             "outlinewidth": 0,
             "ticks": ""
            },
            "colorscale": [
             [
              0,
              "#0d0887"
             ],
             [
              0.1111111111111111,
              "#46039f"
             ],
             [
              0.2222222222222222,
              "#7201a8"
             ],
             [
              0.3333333333333333,
              "#9c179e"
             ],
             [
              0.4444444444444444,
              "#bd3786"
             ],
             [
              0.5555555555555556,
              "#d8576b"
             ],
             [
              0.6666666666666666,
              "#ed7953"
             ],
             [
              0.7777777777777778,
              "#fb9f3a"
             ],
             [
              0.8888888888888888,
              "#fdca26"
             ],
             [
              1,
              "#f0f921"
             ]
            ],
            "type": "surface"
           }
          ],
          "table": [
           {
            "cells": {
             "fill": {
              "color": "#EBF0F8"
             },
             "line": {
              "color": "white"
             }
            },
            "header": {
             "fill": {
              "color": "#C8D4E3"
             },
             "line": {
              "color": "white"
             }
            },
            "type": "table"
           }
          ]
         },
         "layout": {
          "annotationdefaults": {
           "arrowcolor": "#2a3f5f",
           "arrowhead": 0,
           "arrowwidth": 1
          },
          "autotypenumbers": "strict",
          "coloraxis": {
           "colorbar": {
            "outlinewidth": 0,
            "ticks": ""
           }
          },
          "colorscale": {
           "diverging": [
            [
             0,
             "#8e0152"
            ],
            [
             0.1,
             "#c51b7d"
            ],
            [
             0.2,
             "#de77ae"
            ],
            [
             0.3,
             "#f1b6da"
            ],
            [
             0.4,
             "#fde0ef"
            ],
            [
             0.5,
             "#f7f7f7"
            ],
            [
             0.6,
             "#e6f5d0"
            ],
            [
             0.7,
             "#b8e186"
            ],
            [
             0.8,
             "#7fbc41"
            ],
            [
             0.9,
             "#4d9221"
            ],
            [
             1,
             "#276419"
            ]
           ],
           "sequential": [
            [
             0,
             "#0d0887"
            ],
            [
             0.1111111111111111,
             "#46039f"
            ],
            [
             0.2222222222222222,
             "#7201a8"
            ],
            [
             0.3333333333333333,
             "#9c179e"
            ],
            [
             0.4444444444444444,
             "#bd3786"
            ],
            [
             0.5555555555555556,
             "#d8576b"
            ],
            [
             0.6666666666666666,
             "#ed7953"
            ],
            [
             0.7777777777777778,
             "#fb9f3a"
            ],
            [
             0.8888888888888888,
             "#fdca26"
            ],
            [
             1,
             "#f0f921"
            ]
           ],
           "sequentialminus": [
            [
             0,
             "#0d0887"
            ],
            [
             0.1111111111111111,
             "#46039f"
            ],
            [
             0.2222222222222222,
             "#7201a8"
            ],
            [
             0.3333333333333333,
             "#9c179e"
            ],
            [
             0.4444444444444444,
             "#bd3786"
            ],
            [
             0.5555555555555556,
             "#d8576b"
            ],
            [
             0.6666666666666666,
             "#ed7953"
            ],
            [
             0.7777777777777778,
             "#fb9f3a"
            ],
            [
             0.8888888888888888,
             "#fdca26"
            ],
            [
             1,
             "#f0f921"
            ]
           ]
          },
          "colorway": [
           "#636efa",
           "#EF553B",
           "#00cc96",
           "#ab63fa",
           "#FFA15A",
           "#19d3f3",
           "#FF6692",
           "#B6E880",
           "#FF97FF",
           "#FECB52"
          ],
          "font": {
           "color": "#2a3f5f"
          },
          "geo": {
           "bgcolor": "white",
           "lakecolor": "white",
           "landcolor": "#E5ECF6",
           "showlakes": true,
           "showland": true,
           "subunitcolor": "white"
          },
          "hoverlabel": {
           "align": "left"
          },
          "hovermode": "closest",
          "mapbox": {
           "style": "light"
          },
          "paper_bgcolor": "white",
          "plot_bgcolor": "#E5ECF6",
          "polar": {
           "angularaxis": {
            "gridcolor": "white",
            "linecolor": "white",
            "ticks": ""
           },
           "bgcolor": "#E5ECF6",
           "radialaxis": {
            "gridcolor": "white",
            "linecolor": "white",
            "ticks": ""
           }
          },
          "scene": {
           "xaxis": {
            "backgroundcolor": "#E5ECF6",
            "gridcolor": "white",
            "gridwidth": 2,
            "linecolor": "white",
            "showbackground": true,
            "ticks": "",
            "zerolinecolor": "white"
           },
           "yaxis": {
            "backgroundcolor": "#E5ECF6",
            "gridcolor": "white",
            "gridwidth": 2,
            "linecolor": "white",
            "showbackground": true,
            "ticks": "",
            "zerolinecolor": "white"
           },
           "zaxis": {
            "backgroundcolor": "#E5ECF6",
            "gridcolor": "white",
            "gridwidth": 2,
            "linecolor": "white",
            "showbackground": true,
            "ticks": "",
            "zerolinecolor": "white"
           }
          },
          "shapedefaults": {
           "line": {
            "color": "#2a3f5f"
           }
          },
          "ternary": {
           "aaxis": {
            "gridcolor": "white",
            "linecolor": "white",
            "ticks": ""
           },
           "baxis": {
            "gridcolor": "white",
            "linecolor": "white",
            "ticks": ""
           },
           "bgcolor": "#E5ECF6",
           "caxis": {
            "gridcolor": "white",
            "linecolor": "white",
            "ticks": ""
           }
          },
          "title": {
           "x": 0.05
          },
          "xaxis": {
           "automargin": true,
           "gridcolor": "white",
           "linecolor": "white",
           "ticks": "",
           "title": {
            "standoff": 15
           },
           "zerolinecolor": "white",
           "zerolinewidth": 2
          },
          "yaxis": {
           "automargin": true,
           "gridcolor": "white",
           "linecolor": "white",
           "ticks": "",
           "title": {
            "standoff": 15
           },
           "zerolinecolor": "white",
           "zerolinewidth": 2
          }
         }
        },
        "title": {
         "text": "Jumlah Destinasi Wisata Berdasarkan Kota dan Kategori"
        },
        "xaxis": {
         "anchor": "y",
         "domain": [
          0,
          1
         ],
         "title": {
          "text": "City"
         }
        },
        "yaxis": {
         "anchor": "x",
         "domain": [
          0,
          1
         ],
         "title": {
          "text": "Jumlah Destinasi"
         }
        }
       }
      }
     },
     "metadata": {},
     "output_type": "display_data"
    }
   ],
   "source": [
    "destination_count = data_rekomendasi.groupby(by=['City', 'Category']).agg({\n",
    "    'Place_Id': 'count'\n",
    "}).reset_index().rename(columns={\"Place_Id\": \"Jumlah Destinasi\"})\n",
    "\n",
    "destination_count_plot = px.bar(\n",
    "    destination_count, \n",
    "    x='City', \n",
    "    y='Jumlah Destinasi', \n",
    "    color='Category',\n",
    "    barmode='group',\n",
    "    text='Jumlah Destinasi',\n",
    "    title='Jumlah Destinasi Wisata Berdasarkan Kota dan Kategori'\n",
    ")\n",
    "destination_count_plot.show()\n"
   ]
  },
  {
   "cell_type": "markdown",
   "metadata": {},
   "source": [
    "Tempat wisata dengan rating tertinggi di setiap kota"
   ]
  },
  {
   "cell_type": "code",
   "execution_count": 55,
   "metadata": {},
   "outputs": [
    {
     "data": {
      "application/vnd.plotly.v1+json": {
       "config": {
        "plotlyServerURL": "https://plot.ly"
       },
       "data": [
        {
         "alignmentgroup": "True",
         "hovertemplate": "Place_Name=Gereja Tiberias Indonesia Bandung<br>Rating Destination=%{text}<br>City=%{y}<extra></extra>",
         "legendgroup": "Gereja Tiberias Indonesia Bandung",
         "marker": {
          "color": "#636efa",
          "pattern": {
           "shape": ""
          }
         },
         "name": "Gereja Tiberias Indonesia Bandung",
         "offsetgroup": "Gereja Tiberias Indonesia Bandung",
         "orientation": "h",
         "showlegend": true,
         "text": [
          4.9
         ],
         "textposition": "auto",
         "type": "bar",
         "x": [
          4.9
         ],
         "xaxis": "x",
         "y": [
          "Bandung"
         ],
         "yaxis": "y"
        },
        {
         "alignmentgroup": "True",
         "hovertemplate": "Place_Name=Wisata Kuliner Pecenongan<br>Rating Destination=%{text}<br>City=%{y}<extra></extra>",
         "legendgroup": "Wisata Kuliner Pecenongan",
         "marker": {
          "color": "#EF553B",
          "pattern": {
           "shape": ""
          }
         },
         "name": "Wisata Kuliner Pecenongan",
         "offsetgroup": "Wisata Kuliner Pecenongan",
         "orientation": "h",
         "showlegend": true,
         "text": [
          5
         ],
         "textposition": "auto",
         "type": "bar",
         "x": [
          5
         ],
         "xaxis": "x",
         "y": [
          "Jakarta"
         ],
         "yaxis": "y"
        },
        {
         "alignmentgroup": "True",
         "hovertemplate": "Place_Name=Gua Maria Kerep Ambarawa<br>Rating Destination=%{text}<br>City=%{y}<extra></extra>",
         "legendgroup": "Gua Maria Kerep Ambarawa",
         "marker": {
          "color": "#00cc96",
          "pattern": {
           "shape": ""
          }
         },
         "name": "Gua Maria Kerep Ambarawa",
         "offsetgroup": "Gua Maria Kerep Ambarawa",
         "orientation": "h",
         "showlegend": true,
         "text": [
          4.8
         ],
         "textposition": "auto",
         "type": "bar",
         "x": [
          4.8
         ],
         "xaxis": "x",
         "y": [
          "Semarang"
         ],
         "yaxis": "y"
        },
        {
         "alignmentgroup": "True",
         "hovertemplate": "Place_Name=Masjid Nasional Al-Akbar<br>Rating Destination=%{text}<br>City=%{y}<extra></extra>",
         "legendgroup": "Masjid Nasional Al-Akbar",
         "marker": {
          "color": "#ab63fa",
          "pattern": {
           "shape": ""
          }
         },
         "name": "Masjid Nasional Al-Akbar",
         "offsetgroup": "Masjid Nasional Al-Akbar",
         "orientation": "h",
         "showlegend": true,
         "text": [
          4.9
         ],
         "textposition": "auto",
         "type": "bar",
         "x": [
          4.9
         ],
         "xaxis": "x",
         "y": [
          "Surabaya"
         ],
         "yaxis": "y"
        },
        {
         "alignmentgroup": "True",
         "hovertemplate": "Place_Name=Desa Wisata Sungai Code Jogja Kota<br>Rating Destination=%{text}<br>City=%{y}<extra></extra>",
         "legendgroup": "Desa Wisata Sungai Code Jogja Kota",
         "marker": {
          "color": "#FFA15A",
          "pattern": {
           "shape": ""
          }
         },
         "name": "Desa Wisata Sungai Code Jogja Kota",
         "offsetgroup": "Desa Wisata Sungai Code Jogja Kota",
         "orientation": "h",
         "showlegend": true,
         "text": [
          5
         ],
         "textposition": "auto",
         "type": "bar",
         "x": [
          5
         ],
         "xaxis": "x",
         "y": [
          "Yogyakarta"
         ],
         "yaxis": "y"
        }
       ],
       "layout": {
        "barmode": "relative",
        "legend": {
         "title": {
          "text": "Place_Name"
         },
         "tracegroupgap": 0
        },
        "template": {
         "data": {
          "bar": [
           {
            "error_x": {
             "color": "#2a3f5f"
            },
            "error_y": {
             "color": "#2a3f5f"
            },
            "marker": {
             "line": {
              "color": "#E5ECF6",
              "width": 0.5
             },
             "pattern": {
              "fillmode": "overlay",
              "size": 10,
              "solidity": 0.2
             }
            },
            "type": "bar"
           }
          ],
          "barpolar": [
           {
            "marker": {
             "line": {
              "color": "#E5ECF6",
              "width": 0.5
             },
             "pattern": {
              "fillmode": "overlay",
              "size": 10,
              "solidity": 0.2
             }
            },
            "type": "barpolar"
           }
          ],
          "carpet": [
           {
            "aaxis": {
             "endlinecolor": "#2a3f5f",
             "gridcolor": "white",
             "linecolor": "white",
             "minorgridcolor": "white",
             "startlinecolor": "#2a3f5f"
            },
            "baxis": {
             "endlinecolor": "#2a3f5f",
             "gridcolor": "white",
             "linecolor": "white",
             "minorgridcolor": "white",
             "startlinecolor": "#2a3f5f"
            },
            "type": "carpet"
           }
          ],
          "choropleth": [
           {
            "colorbar": {
             "outlinewidth": 0,
             "ticks": ""
            },
            "type": "choropleth"
           }
          ],
          "contour": [
           {
            "colorbar": {
             "outlinewidth": 0,
             "ticks": ""
            },
            "colorscale": [
             [
              0,
              "#0d0887"
             ],
             [
              0.1111111111111111,
              "#46039f"
             ],
             [
              0.2222222222222222,
              "#7201a8"
             ],
             [
              0.3333333333333333,
              "#9c179e"
             ],
             [
              0.4444444444444444,
              "#bd3786"
             ],
             [
              0.5555555555555556,
              "#d8576b"
             ],
             [
              0.6666666666666666,
              "#ed7953"
             ],
             [
              0.7777777777777778,
              "#fb9f3a"
             ],
             [
              0.8888888888888888,
              "#fdca26"
             ],
             [
              1,
              "#f0f921"
             ]
            ],
            "type": "contour"
           }
          ],
          "contourcarpet": [
           {
            "colorbar": {
             "outlinewidth": 0,
             "ticks": ""
            },
            "type": "contourcarpet"
           }
          ],
          "heatmap": [
           {
            "colorbar": {
             "outlinewidth": 0,
             "ticks": ""
            },
            "colorscale": [
             [
              0,
              "#0d0887"
             ],
             [
              0.1111111111111111,
              "#46039f"
             ],
             [
              0.2222222222222222,
              "#7201a8"
             ],
             [
              0.3333333333333333,
              "#9c179e"
             ],
             [
              0.4444444444444444,
              "#bd3786"
             ],
             [
              0.5555555555555556,
              "#d8576b"
             ],
             [
              0.6666666666666666,
              "#ed7953"
             ],
             [
              0.7777777777777778,
              "#fb9f3a"
             ],
             [
              0.8888888888888888,
              "#fdca26"
             ],
             [
              1,
              "#f0f921"
             ]
            ],
            "type": "heatmap"
           }
          ],
          "heatmapgl": [
           {
            "colorbar": {
             "outlinewidth": 0,
             "ticks": ""
            },
            "colorscale": [
             [
              0,
              "#0d0887"
             ],
             [
              0.1111111111111111,
              "#46039f"
             ],
             [
              0.2222222222222222,
              "#7201a8"
             ],
             [
              0.3333333333333333,
              "#9c179e"
             ],
             [
              0.4444444444444444,
              "#bd3786"
             ],
             [
              0.5555555555555556,
              "#d8576b"
             ],
             [
              0.6666666666666666,
              "#ed7953"
             ],
             [
              0.7777777777777778,
              "#fb9f3a"
             ],
             [
              0.8888888888888888,
              "#fdca26"
             ],
             [
              1,
              "#f0f921"
             ]
            ],
            "type": "heatmapgl"
           }
          ],
          "histogram": [
           {
            "marker": {
             "pattern": {
              "fillmode": "overlay",
              "size": 10,
              "solidity": 0.2
             }
            },
            "type": "histogram"
           }
          ],
          "histogram2d": [
           {
            "colorbar": {
             "outlinewidth": 0,
             "ticks": ""
            },
            "colorscale": [
             [
              0,
              "#0d0887"
             ],
             [
              0.1111111111111111,
              "#46039f"
             ],
             [
              0.2222222222222222,
              "#7201a8"
             ],
             [
              0.3333333333333333,
              "#9c179e"
             ],
             [
              0.4444444444444444,
              "#bd3786"
             ],
             [
              0.5555555555555556,
              "#d8576b"
             ],
             [
              0.6666666666666666,
              "#ed7953"
             ],
             [
              0.7777777777777778,
              "#fb9f3a"
             ],
             [
              0.8888888888888888,
              "#fdca26"
             ],
             [
              1,
              "#f0f921"
             ]
            ],
            "type": "histogram2d"
           }
          ],
          "histogram2dcontour": [
           {
            "colorbar": {
             "outlinewidth": 0,
             "ticks": ""
            },
            "colorscale": [
             [
              0,
              "#0d0887"
             ],
             [
              0.1111111111111111,
              "#46039f"
             ],
             [
              0.2222222222222222,
              "#7201a8"
             ],
             [
              0.3333333333333333,
              "#9c179e"
             ],
             [
              0.4444444444444444,
              "#bd3786"
             ],
             [
              0.5555555555555556,
              "#d8576b"
             ],
             [
              0.6666666666666666,
              "#ed7953"
             ],
             [
              0.7777777777777778,
              "#fb9f3a"
             ],
             [
              0.8888888888888888,
              "#fdca26"
             ],
             [
              1,
              "#f0f921"
             ]
            ],
            "type": "histogram2dcontour"
           }
          ],
          "mesh3d": [
           {
            "colorbar": {
             "outlinewidth": 0,
             "ticks": ""
            },
            "type": "mesh3d"
           }
          ],
          "parcoords": [
           {
            "line": {
             "colorbar": {
              "outlinewidth": 0,
              "ticks": ""
             }
            },
            "type": "parcoords"
           }
          ],
          "pie": [
           {
            "automargin": true,
            "type": "pie"
           }
          ],
          "scatter": [
           {
            "fillpattern": {
             "fillmode": "overlay",
             "size": 10,
             "solidity": 0.2
            },
            "type": "scatter"
           }
          ],
          "scatter3d": [
           {
            "line": {
             "colorbar": {
              "outlinewidth": 0,
              "ticks": ""
             }
            },
            "marker": {
             "colorbar": {
              "outlinewidth": 0,
              "ticks": ""
             }
            },
            "type": "scatter3d"
           }
          ],
          "scattercarpet": [
           {
            "marker": {
             "colorbar": {
              "outlinewidth": 0,
              "ticks": ""
             }
            },
            "type": "scattercarpet"
           }
          ],
          "scattergeo": [
           {
            "marker": {
             "colorbar": {
              "outlinewidth": 0,
              "ticks": ""
             }
            },
            "type": "scattergeo"
           }
          ],
          "scattergl": [
           {
            "marker": {
             "colorbar": {
              "outlinewidth": 0,
              "ticks": ""
             }
            },
            "type": "scattergl"
           }
          ],
          "scattermapbox": [
           {
            "marker": {
             "colorbar": {
              "outlinewidth": 0,
              "ticks": ""
             }
            },
            "type": "scattermapbox"
           }
          ],
          "scatterpolar": [
           {
            "marker": {
             "colorbar": {
              "outlinewidth": 0,
              "ticks": ""
             }
            },
            "type": "scatterpolar"
           }
          ],
          "scatterpolargl": [
           {
            "marker": {
             "colorbar": {
              "outlinewidth": 0,
              "ticks": ""
             }
            },
            "type": "scatterpolargl"
           }
          ],
          "scatterternary": [
           {
            "marker": {
             "colorbar": {
              "outlinewidth": 0,
              "ticks": ""
             }
            },
            "type": "scatterternary"
           }
          ],
          "surface": [
           {
            "colorbar": {
             "outlinewidth": 0,
             "ticks": ""
            },
            "colorscale": [
             [
              0,
              "#0d0887"
             ],
             [
              0.1111111111111111,
              "#46039f"
             ],
             [
              0.2222222222222222,
              "#7201a8"
             ],
             [
              0.3333333333333333,
              "#9c179e"
             ],
             [
              0.4444444444444444,
              "#bd3786"
             ],
             [
              0.5555555555555556,
              "#d8576b"
             ],
             [
              0.6666666666666666,
              "#ed7953"
             ],
             [
              0.7777777777777778,
              "#fb9f3a"
             ],
             [
              0.8888888888888888,
              "#fdca26"
             ],
             [
              1,
              "#f0f921"
             ]
            ],
            "type": "surface"
           }
          ],
          "table": [
           {
            "cells": {
             "fill": {
              "color": "#EBF0F8"
             },
             "line": {
              "color": "white"
             }
            },
            "header": {
             "fill": {
              "color": "#C8D4E3"
             },
             "line": {
              "color": "white"
             }
            },
            "type": "table"
           }
          ]
         },
         "layout": {
          "annotationdefaults": {
           "arrowcolor": "#2a3f5f",
           "arrowhead": 0,
           "arrowwidth": 1
          },
          "autotypenumbers": "strict",
          "coloraxis": {
           "colorbar": {
            "outlinewidth": 0,
            "ticks": ""
           }
          },
          "colorscale": {
           "diverging": [
            [
             0,
             "#8e0152"
            ],
            [
             0.1,
             "#c51b7d"
            ],
            [
             0.2,
             "#de77ae"
            ],
            [
             0.3,
             "#f1b6da"
            ],
            [
             0.4,
             "#fde0ef"
            ],
            [
             0.5,
             "#f7f7f7"
            ],
            [
             0.6,
             "#e6f5d0"
            ],
            [
             0.7,
             "#b8e186"
            ],
            [
             0.8,
             "#7fbc41"
            ],
            [
             0.9,
             "#4d9221"
            ],
            [
             1,
             "#276419"
            ]
           ],
           "sequential": [
            [
             0,
             "#0d0887"
            ],
            [
             0.1111111111111111,
             "#46039f"
            ],
            [
             0.2222222222222222,
             "#7201a8"
            ],
            [
             0.3333333333333333,
             "#9c179e"
            ],
            [
             0.4444444444444444,
             "#bd3786"
            ],
            [
             0.5555555555555556,
             "#d8576b"
            ],
            [
             0.6666666666666666,
             "#ed7953"
            ],
            [
             0.7777777777777778,
             "#fb9f3a"
            ],
            [
             0.8888888888888888,
             "#fdca26"
            ],
            [
             1,
             "#f0f921"
            ]
           ],
           "sequentialminus": [
            [
             0,
             "#0d0887"
            ],
            [
             0.1111111111111111,
             "#46039f"
            ],
            [
             0.2222222222222222,
             "#7201a8"
            ],
            [
             0.3333333333333333,
             "#9c179e"
            ],
            [
             0.4444444444444444,
             "#bd3786"
            ],
            [
             0.5555555555555556,
             "#d8576b"
            ],
            [
             0.6666666666666666,
             "#ed7953"
            ],
            [
             0.7777777777777778,
             "#fb9f3a"
            ],
            [
             0.8888888888888888,
             "#fdca26"
            ],
            [
             1,
             "#f0f921"
            ]
           ]
          },
          "colorway": [
           "#636efa",
           "#EF553B",
           "#00cc96",
           "#ab63fa",
           "#FFA15A",
           "#19d3f3",
           "#FF6692",
           "#B6E880",
           "#FF97FF",
           "#FECB52"
          ],
          "font": {
           "color": "#2a3f5f"
          },
          "geo": {
           "bgcolor": "white",
           "lakecolor": "white",
           "landcolor": "#E5ECF6",
           "showlakes": true,
           "showland": true,
           "subunitcolor": "white"
          },
          "hoverlabel": {
           "align": "left"
          },
          "hovermode": "closest",
          "mapbox": {
           "style": "light"
          },
          "paper_bgcolor": "white",
          "plot_bgcolor": "#E5ECF6",
          "polar": {
           "angularaxis": {
            "gridcolor": "white",
            "linecolor": "white",
            "ticks": ""
           },
           "bgcolor": "#E5ECF6",
           "radialaxis": {
            "gridcolor": "white",
            "linecolor": "white",
            "ticks": ""
           }
          },
          "scene": {
           "xaxis": {
            "backgroundcolor": "#E5ECF6",
            "gridcolor": "white",
            "gridwidth": 2,
            "linecolor": "white",
            "showbackground": true,
            "ticks": "",
            "zerolinecolor": "white"
           },
           "yaxis": {
            "backgroundcolor": "#E5ECF6",
            "gridcolor": "white",
            "gridwidth": 2,
            "linecolor": "white",
            "showbackground": true,
            "ticks": "",
            "zerolinecolor": "white"
           },
           "zaxis": {
            "backgroundcolor": "#E5ECF6",
            "gridcolor": "white",
            "gridwidth": 2,
            "linecolor": "white",
            "showbackground": true,
            "ticks": "",
            "zerolinecolor": "white"
           }
          },
          "shapedefaults": {
           "line": {
            "color": "#2a3f5f"
           }
          },
          "ternary": {
           "aaxis": {
            "gridcolor": "white",
            "linecolor": "white",
            "ticks": ""
           },
           "baxis": {
            "gridcolor": "white",
            "linecolor": "white",
            "ticks": ""
           },
           "bgcolor": "#E5ECF6",
           "caxis": {
            "gridcolor": "white",
            "linecolor": "white",
            "ticks": ""
           }
          },
          "title": {
           "x": 0.05
          },
          "xaxis": {
           "automargin": true,
           "gridcolor": "white",
           "linecolor": "white",
           "ticks": "",
           "title": {
            "standoff": 15
           },
           "zerolinecolor": "white",
           "zerolinewidth": 2
          },
          "yaxis": {
           "automargin": true,
           "gridcolor": "white",
           "linecolor": "white",
           "ticks": "",
           "title": {
            "standoff": 15
           },
           "zerolinecolor": "white",
           "zerolinewidth": 2
          }
         }
        },
        "title": {
         "text": "Destinasi Wisata Terbaik Berdasarkan Kota"
        },
        "xaxis": {
         "anchor": "y",
         "domain": [
          0,
          1
         ],
         "title": {
          "text": "Rating Destination"
         }
        },
        "yaxis": {
         "anchor": "x",
         "domain": [
          0,
          1
         ],
         "title": {
          "text": "City"
         }
        }
       }
      }
     },
     "metadata": {},
     "output_type": "display_data"
    }
   ],
   "source": [
    "top_destination = data_rekomendasi.loc[data_rekomendasi.groupby('City')['Rating Destination'].idxmax()][['City', 'Place_Name', 'Rating Destination']]\n",
    "\n",
    "top_destination_plot = px.bar(\n",
    "    top_destination, \n",
    "    x='Rating Destination', \n",
    "    y='City', \n",
    "    text='Rating Destination',\n",
    "    color='Place_Name',\n",
    "    orientation='h',\n",
    "    title='Destinasi Wisata Terbaik Berdasarkan Kota'\n",
    ")\n",
    "top_destination_plot.show()"
   ]
  },
  {
   "cell_type": "markdown",
   "metadata": {},
   "source": [
    "## Content Based Filtering - Cosine Similarity"
   ]
  },
  {
   "cell_type": "markdown",
   "metadata": {},
   "source": [
    "Menyalin data rekomendasi agar tidak merusak data asli"
   ]
  },
  {
   "cell_type": "code",
   "execution_count": 26,
   "metadata": {},
   "outputs": [
    {
     "data": {
      "text/html": [
       "<div>\n",
       "<style scoped>\n",
       "    .dataframe tbody tr th:only-of-type {\n",
       "        vertical-align: middle;\n",
       "    }\n",
       "\n",
       "    .dataframe tbody tr th {\n",
       "        vertical-align: top;\n",
       "    }\n",
       "\n",
       "    .dataframe thead th {\n",
       "        text-align: right;\n",
       "    }\n",
       "</style>\n",
       "<table border=\"1\" class=\"dataframe\">\n",
       "  <thead>\n",
       "    <tr style=\"text-align: right;\">\n",
       "      <th></th>\n",
       "      <th>User_Id</th>\n",
       "      <th>Place_Id</th>\n",
       "      <th>Rating_User</th>\n",
       "      <th>Location</th>\n",
       "      <th>Age</th>\n",
       "      <th>Place_Name</th>\n",
       "      <th>Description</th>\n",
       "      <th>Category</th>\n",
       "      <th>City</th>\n",
       "      <th>Price</th>\n",
       "      <th>Rating Destination</th>\n",
       "    </tr>\n",
       "  </thead>\n",
       "  <tbody>\n",
       "    <tr>\n",
       "      <th>0</th>\n",
       "      <td>1</td>\n",
       "      <td>179</td>\n",
       "      <td>3</td>\n",
       "      <td>Semarang, Jawa Tengah</td>\n",
       "      <td>20</td>\n",
       "      <td>Candi Ratu Boko</td>\n",
       "      <td>Situs Ratu Baka atau Candi Boko (Hanacaraka:ꦕꦤ...</td>\n",
       "      <td>Budaya</td>\n",
       "      <td>Yogyakarta</td>\n",
       "      <td>75000</td>\n",
       "      <td>4.6</td>\n",
       "    </tr>\n",
       "    <tr>\n",
       "      <th>1</th>\n",
       "      <td>1</td>\n",
       "      <td>344</td>\n",
       "      <td>2</td>\n",
       "      <td>Semarang, Jawa Tengah</td>\n",
       "      <td>20</td>\n",
       "      <td>Pantai Marina</td>\n",
       "      <td>Pantai Marina (bahasa Jawa: ꦥꦱꦶꦱꦶꦂ​ꦩꦫꦶꦤ, trans...</td>\n",
       "      <td>Bahari</td>\n",
       "      <td>Semarang</td>\n",
       "      <td>3000</td>\n",
       "      <td>4.1</td>\n",
       "    </tr>\n",
       "    <tr>\n",
       "      <th>2</th>\n",
       "      <td>1</td>\n",
       "      <td>5</td>\n",
       "      <td>5</td>\n",
       "      <td>Semarang, Jawa Tengah</td>\n",
       "      <td>20</td>\n",
       "      <td>Atlantis Water Adventure</td>\n",
       "      <td>Atlantis Water Adventure atau dikenal dengan A...</td>\n",
       "      <td>Taman Hiburan</td>\n",
       "      <td>Jakarta</td>\n",
       "      <td>94000</td>\n",
       "      <td>4.5</td>\n",
       "    </tr>\n",
       "    <tr>\n",
       "      <th>3</th>\n",
       "      <td>1</td>\n",
       "      <td>373</td>\n",
       "      <td>3</td>\n",
       "      <td>Semarang, Jawa Tengah</td>\n",
       "      <td>20</td>\n",
       "      <td>Museum Kereta Ambarawa</td>\n",
       "      <td>Museum Kereta Api Ambarawa (bahasa Inggris: In...</td>\n",
       "      <td>Budaya</td>\n",
       "      <td>Semarang</td>\n",
       "      <td>10000</td>\n",
       "      <td>4.5</td>\n",
       "    </tr>\n",
       "    <tr>\n",
       "      <th>4</th>\n",
       "      <td>1</td>\n",
       "      <td>101</td>\n",
       "      <td>4</td>\n",
       "      <td>Semarang, Jawa Tengah</td>\n",
       "      <td>20</td>\n",
       "      <td>Kampung Wisata Sosro Menduran</td>\n",
       "      <td>Kampung wisata Sosromenduran merupakan kampung...</td>\n",
       "      <td>Budaya</td>\n",
       "      <td>Yogyakarta</td>\n",
       "      <td>0</td>\n",
       "      <td>4.0</td>\n",
       "    </tr>\n",
       "  </tbody>\n",
       "</table>\n",
       "</div>"
      ],
      "text/plain": [
       "   User_Id  Place_Id  Rating_User               Location  Age  \\\n",
       "0        1       179            3  Semarang, Jawa Tengah   20   \n",
       "1        1       344            2  Semarang, Jawa Tengah   20   \n",
       "2        1         5            5  Semarang, Jawa Tengah   20   \n",
       "3        1       373            3  Semarang, Jawa Tengah   20   \n",
       "4        1       101            4  Semarang, Jawa Tengah   20   \n",
       "\n",
       "                      Place_Name  \\\n",
       "0                Candi Ratu Boko   \n",
       "1                  Pantai Marina   \n",
       "2       Atlantis Water Adventure   \n",
       "3         Museum Kereta Ambarawa   \n",
       "4  Kampung Wisata Sosro Menduran   \n",
       "\n",
       "                                         Description       Category  \\\n",
       "0  Situs Ratu Baka atau Candi Boko (Hanacaraka:ꦕꦤ...         Budaya   \n",
       "1  Pantai Marina (bahasa Jawa: ꦥꦱꦶꦱꦶꦂ​ꦩꦫꦶꦤ, trans...         Bahari   \n",
       "2  Atlantis Water Adventure atau dikenal dengan A...  Taman Hiburan   \n",
       "3  Museum Kereta Api Ambarawa (bahasa Inggris: In...         Budaya   \n",
       "4  Kampung wisata Sosromenduran merupakan kampung...         Budaya   \n",
       "\n",
       "         City  Price  Rating Destination  \n",
       "0  Yogyakarta  75000                 4.6  \n",
       "1    Semarang   3000                 4.1  \n",
       "2     Jakarta  94000                 4.5  \n",
       "3    Semarang  10000                 4.5  \n",
       "4  Yogyakarta      0                 4.0  "
      ]
     },
     "execution_count": 26,
     "metadata": {},
     "output_type": "execute_result"
    }
   ],
   "source": [
    "rekomen_cosine = data_rekomendasi.copy()\n",
    "rekomen_cosine.head()"
   ]
  },
  {
   "cell_type": "markdown",
   "metadata": {},
   "source": [
    "Membuat tag pada data destinasi yang terdiri dari kategori dan nama kota."
   ]
  },
  {
   "cell_type": "code",
   "execution_count": 27,
   "metadata": {},
   "outputs": [
    {
     "data": {
      "text/plain": [
       "['Budaya, Yogyakarta',\n",
       " 'Bahari, Semarang',\n",
       " 'Taman Hiburan, Jakarta',\n",
       " 'Budaya, Semarang',\n",
       " 'Budaya, Yogyakarta']"
      ]
     },
     "execution_count": 27,
     "metadata": {},
     "output_type": "execute_result"
    }
   ],
   "source": [
    "place_name = rekomen_cosine['Place_Name'].to_list()\n",
    "place_category = rekomen_cosine['Category'].to_list()\n",
    "place_city = rekomen_cosine['City'].to_list()\n",
    "\n",
    "place_tag = [f\"{place_category[i]}, {place_city[i]}\" for i in range(len(place_name))]\n",
    "place_tag[:5]"
   ]
  },
  {
   "cell_type": "markdown",
   "metadata": {},
   "source": [
    "Melihat jumlah tag"
   ]
  },
  {
   "cell_type": "code",
   "execution_count": 69,
   "metadata": {},
   "outputs": [
    {
     "name": "stdout",
     "output_type": "stream",
     "text": [
      "Jumlah tag: 9921\n",
      "Tag yang tersedia: 27\n",
      "Tag: {'Tempat Ibadah, Semarang', 'Bahari, Surabaya', 'Budaya, Semarang', 'Bahari, Jakarta', 'Cagar Alam, Jakarta', 'Pusat Perbelanjaan, Jakarta', 'Budaya, Yogyakarta', 'Cagar Alam, Surabaya', 'Taman Hiburan, Surabaya', 'Budaya, Bandung', 'Cagar Alam, Yogyakarta', 'Tempat Ibadah, Bandung', 'Tempat Ibadah, Jakarta', 'Bahari, Semarang', 'Taman Hiburan, Yogyakarta', 'Cagar Alam, Bandung', 'Pusat Perbelanjaan, Yogyakarta', 'Bahari, Yogyakarta', 'Tempat Ibadah, Surabaya', 'Taman Hiburan, Semarang', 'Taman Hiburan, Bandung', 'Budaya, Jakarta', 'Pusat Perbelanjaan, Surabaya', 'Pusat Perbelanjaan, Bandung', 'Taman Hiburan, Jakarta', 'Budaya, Surabaya', 'Cagar Alam, Semarang'}\n"
     ]
    }
   ],
   "source": [
    "print(f\"Jumlah tag: {len(place_tag)}\")\n",
    "print(f\"Tag yang tersedia: {len(set(place_tag))}\")\n",
    "print(f\"Tag: {set(place_tag)}\")"
   ]
  },
  {
   "cell_type": "markdown",
   "metadata": {},
   "source": [
    "Membuat dataframe yang berisi destinasi id, nama destinasi, dan tag"
   ]
  },
  {
   "cell_type": "code",
   "execution_count": 29,
   "metadata": {},
   "outputs": [
    {
     "data": {
      "text/html": [
       "<div>\n",
       "<style scoped>\n",
       "    .dataframe tbody tr th:only-of-type {\n",
       "        vertical-align: middle;\n",
       "    }\n",
       "\n",
       "    .dataframe tbody tr th {\n",
       "        vertical-align: top;\n",
       "    }\n",
       "\n",
       "    .dataframe thead th {\n",
       "        text-align: right;\n",
       "    }\n",
       "</style>\n",
       "<table border=\"1\" class=\"dataframe\">\n",
       "  <thead>\n",
       "    <tr style=\"text-align: right;\">\n",
       "      <th></th>\n",
       "      <th>destination_id</th>\n",
       "      <th>destination_name</th>\n",
       "      <th>destination_tag</th>\n",
       "    </tr>\n",
       "  </thead>\n",
       "  <tbody>\n",
       "    <tr>\n",
       "      <th>0</th>\n",
       "      <td>179</td>\n",
       "      <td>Candi Ratu Boko</td>\n",
       "      <td>Budaya, Yogyakarta</td>\n",
       "    </tr>\n",
       "    <tr>\n",
       "      <th>1</th>\n",
       "      <td>344</td>\n",
       "      <td>Pantai Marina</td>\n",
       "      <td>Bahari, Semarang</td>\n",
       "    </tr>\n",
       "    <tr>\n",
       "      <th>2</th>\n",
       "      <td>5</td>\n",
       "      <td>Atlantis Water Adventure</td>\n",
       "      <td>Taman Hiburan, Jakarta</td>\n",
       "    </tr>\n",
       "    <tr>\n",
       "      <th>3</th>\n",
       "      <td>373</td>\n",
       "      <td>Museum Kereta Ambarawa</td>\n",
       "      <td>Budaya, Semarang</td>\n",
       "    </tr>\n",
       "    <tr>\n",
       "      <th>4</th>\n",
       "      <td>101</td>\n",
       "      <td>Kampung Wisata Sosro Menduran</td>\n",
       "      <td>Budaya, Yogyakarta</td>\n",
       "    </tr>\n",
       "  </tbody>\n",
       "</table>\n",
       "</div>"
      ],
      "text/plain": [
       "   destination_id               destination_name         destination_tag\n",
       "0             179                Candi Ratu Boko      Budaya, Yogyakarta\n",
       "1             344                  Pantai Marina        Bahari, Semarang\n",
       "2               5       Atlantis Water Adventure  Taman Hiburan, Jakarta\n",
       "3             373         Museum Kereta Ambarawa        Budaya, Semarang\n",
       "4             101  Kampung Wisata Sosro Menduran      Budaya, Yogyakarta"
      ]
     },
     "execution_count": 29,
     "metadata": {},
     "output_type": "execute_result"
    }
   ],
   "source": [
    "data_rekomen_cosine = pd.DataFrame({\n",
    "    \"destination_id\": rekomen_cosine['Place_Id'],\n",
    "    \"destination_name\": place_name,\n",
    "    \"destination_tag\": place_tag\n",
    "})\n",
    "\n",
    "data_rekomen_cosine.dropna(subset=['destination_tag'], inplace=True)\n",
    "data_rekomen_cosine.head()"
   ]
  },
  {
   "cell_type": "markdown",
   "metadata": {},
   "source": [
    "Mengecek data duplikat pada data rekomendasi"
   ]
  },
  {
   "cell_type": "code",
   "execution_count": 30,
   "metadata": {},
   "outputs": [
    {
     "data": {
      "text/plain": [
       "9484"
      ]
     },
     "execution_count": 30,
     "metadata": {},
     "output_type": "execute_result"
    }
   ],
   "source": [
    "data_rekomen_cosine.duplicated().sum()"
   ]
  },
  {
   "cell_type": "markdown",
   "metadata": {},
   "source": [
    "Menghapus data duplikat pada data rekomendasi"
   ]
  },
  {
   "cell_type": "code",
   "execution_count": null,
   "metadata": {},
   "outputs": [],
   "source": [
    "data_rekomen_cosine.drop_duplicates(inplace=True)\n",
    "data_rekomen_cosine.duplicated().sum()"
   ]
  },
  {
   "cell_type": "markdown",
   "metadata": {},
   "source": [
    "Mengubah kumpulan tag destinasi menjadi representasi numerik (vektor) menggunakan teknik TF-IDF"
   ]
  },
  {
   "cell_type": "code",
   "execution_count": 32,
   "metadata": {},
   "outputs": [
    {
     "data": {
      "text/plain": [
       "array(['alam', 'bahari', 'bandung', 'budaya', 'cagar', 'hiburan',\n",
       "       'ibadah', 'jakarta', 'perbelanjaan', 'pusat', 'semarang',\n",
       "       'surabaya', 'taman', 'tempat', 'yogyakarta'], dtype=object)"
      ]
     },
     "execution_count": 32,
     "metadata": {},
     "output_type": "execute_result"
    }
   ],
   "source": [
    "tfidf = TfidfVectorizer()\n",
    "\n",
    "tfidf.fit(data_rekomen_cosine['destination_tag'])\n",
    "tfidf.get_feature_names_out()"
   ]
  },
  {
   "cell_type": "markdown",
   "metadata": {},
   "source": [
    "Mengubah tag destinasi menjadi matriks TF-IDF, yang merupakan representasi numerik dari dokumen (destinasi) dan kata-kata (tag)"
   ]
  },
  {
   "cell_type": "code",
   "execution_count": 33,
   "metadata": {},
   "outputs": [
    {
     "data": {
      "text/plain": [
       "(437, 15)"
      ]
     },
     "execution_count": 33,
     "metadata": {},
     "output_type": "execute_result"
    }
   ],
   "source": [
    "tfidf_matrix = tfidf.fit_transform(data_rekomen_cosine['destination_tag'])\n",
    "tfidf_matrix.shape"
   ]
  },
  {
   "cell_type": "markdown",
   "metadata": {},
   "source": [
    "Mengubah matriks TF-IDF yang awalnya disimpan dalam format sparse menjadi format dense"
   ]
  },
  {
   "cell_type": "code",
   "execution_count": 34,
   "metadata": {},
   "outputs": [
    {
     "data": {
      "text/plain": [
       "matrix([[0.        , 0.        , 0.        , ..., 0.        , 0.        ,\n",
       "         0.69559204],\n",
       "        [0.        , 0.72824058, 0.        , ..., 0.        , 0.        ,\n",
       "         0.        ],\n",
       "        [0.        , 0.        , 0.        , ..., 0.5360408 , 0.        ,\n",
       "         0.        ],\n",
       "        ...,\n",
       "        [0.        , 0.7724966 , 0.        , ..., 0.        , 0.        ,\n",
       "         0.        ],\n",
       "        [0.55900007, 0.        , 0.        , ..., 0.        , 0.        ,\n",
       "         0.        ],\n",
       "        [0.        , 0.        , 0.        , ..., 0.57127819, 0.        ,\n",
       "         0.58930677]])"
      ]
     },
     "execution_count": 34,
     "metadata": {},
     "output_type": "execute_result"
    }
   ],
   "source": [
    "tfidf_matrix.todense()"
   ]
  },
  {
   "cell_type": "markdown",
   "metadata": {},
   "source": [
    "Menampilkan sampel acak dari 5 destinasi dan 15 tag destinasi, dengan nilai-nilai TF-IDF yang menunjukkan relevansi setiap tag terhadap masing-masing destinasi."
   ]
  },
  {
   "cell_type": "code",
   "execution_count": 35,
   "metadata": {},
   "outputs": [
    {
     "data": {
      "text/html": [
       "<div>\n",
       "<style scoped>\n",
       "    .dataframe tbody tr th:only-of-type {\n",
       "        vertical-align: middle;\n",
       "    }\n",
       "\n",
       "    .dataframe tbody tr th {\n",
       "        vertical-align: top;\n",
       "    }\n",
       "\n",
       "    .dataframe thead th {\n",
       "        text-align: right;\n",
       "    }\n",
       "</style>\n",
       "<table border=\"1\" class=\"dataframe\">\n",
       "  <thead>\n",
       "    <tr style=\"text-align: right;\">\n",
       "      <th></th>\n",
       "      <th>semarang</th>\n",
       "      <th>yogyakarta</th>\n",
       "      <th>ibadah</th>\n",
       "      <th>bahari</th>\n",
       "      <th>budaya</th>\n",
       "      <th>pusat</th>\n",
       "      <th>surabaya</th>\n",
       "      <th>taman</th>\n",
       "      <th>perbelanjaan</th>\n",
       "      <th>bandung</th>\n",
       "      <th>hiburan</th>\n",
       "      <th>alam</th>\n",
       "      <th>tempat</th>\n",
       "      <th>cagar</th>\n",
       "      <th>jakarta</th>\n",
       "    </tr>\n",
       "    <tr>\n",
       "      <th>destination_name</th>\n",
       "      <th></th>\n",
       "      <th></th>\n",
       "      <th></th>\n",
       "      <th></th>\n",
       "      <th></th>\n",
       "      <th></th>\n",
       "      <th></th>\n",
       "      <th></th>\n",
       "      <th></th>\n",
       "      <th></th>\n",
       "      <th></th>\n",
       "      <th></th>\n",
       "      <th></th>\n",
       "      <th></th>\n",
       "      <th></th>\n",
       "    </tr>\n",
       "  </thead>\n",
       "  <tbody>\n",
       "    <tr>\n",
       "      <th>Pantai Marina</th>\n",
       "      <td>0.685322</td>\n",
       "      <td>0.000000</td>\n",
       "      <td>0.0</td>\n",
       "      <td>0.728241</td>\n",
       "      <td>0.000000</td>\n",
       "      <td>0.0</td>\n",
       "      <td>0.0</td>\n",
       "      <td>0.000000</td>\n",
       "      <td>0.0</td>\n",
       "      <td>0.000000</td>\n",
       "      <td>0.000000</td>\n",
       "      <td>0.000000</td>\n",
       "      <td>0.0</td>\n",
       "      <td>0.000000</td>\n",
       "      <td>0.0</td>\n",
       "    </tr>\n",
       "    <tr>\n",
       "      <th>Bandros City Tour</th>\n",
       "      <td>0.000000</td>\n",
       "      <td>0.000000</td>\n",
       "      <td>0.0</td>\n",
       "      <td>0.000000</td>\n",
       "      <td>0.715975</td>\n",
       "      <td>0.0</td>\n",
       "      <td>0.0</td>\n",
       "      <td>0.000000</td>\n",
       "      <td>0.0</td>\n",
       "      <td>0.698125</td>\n",
       "      <td>0.000000</td>\n",
       "      <td>0.000000</td>\n",
       "      <td>0.0</td>\n",
       "      <td>0.000000</td>\n",
       "      <td>0.0</td>\n",
       "    </tr>\n",
       "    <tr>\n",
       "      <th>Goa Pindul</th>\n",
       "      <td>0.000000</td>\n",
       "      <td>0.548987</td>\n",
       "      <td>0.0</td>\n",
       "      <td>0.000000</td>\n",
       "      <td>0.000000</td>\n",
       "      <td>0.0</td>\n",
       "      <td>0.0</td>\n",
       "      <td>0.000000</td>\n",
       "      <td>0.0</td>\n",
       "      <td>0.000000</td>\n",
       "      <td>0.000000</td>\n",
       "      <td>0.591021</td>\n",
       "      <td>0.0</td>\n",
       "      <td>0.591021</td>\n",
       "      <td>0.0</td>\n",
       "    </tr>\n",
       "    <tr>\n",
       "      <th>Sungai Palayangan</th>\n",
       "      <td>0.000000</td>\n",
       "      <td>0.000000</td>\n",
       "      <td>0.0</td>\n",
       "      <td>0.000000</td>\n",
       "      <td>0.000000</td>\n",
       "      <td>0.0</td>\n",
       "      <td>0.0</td>\n",
       "      <td>0.000000</td>\n",
       "      <td>0.0</td>\n",
       "      <td>0.551699</td>\n",
       "      <td>0.000000</td>\n",
       "      <td>0.589758</td>\n",
       "      <td>0.0</td>\n",
       "      <td>0.589758</td>\n",
       "      <td>0.0</td>\n",
       "    </tr>\n",
       "    <tr>\n",
       "      <th>Tugu Pal Putih Jogja</th>\n",
       "      <td>0.000000</td>\n",
       "      <td>0.589307</td>\n",
       "      <td>0.0</td>\n",
       "      <td>0.000000</td>\n",
       "      <td>0.000000</td>\n",
       "      <td>0.0</td>\n",
       "      <td>0.0</td>\n",
       "      <td>0.571278</td>\n",
       "      <td>0.0</td>\n",
       "      <td>0.000000</td>\n",
       "      <td>0.571278</td>\n",
       "      <td>0.000000</td>\n",
       "      <td>0.0</td>\n",
       "      <td>0.000000</td>\n",
       "      <td>0.0</td>\n",
       "    </tr>\n",
       "  </tbody>\n",
       "</table>\n",
       "</div>"
      ],
      "text/plain": [
       "                      semarang  yogyakarta  ibadah    bahari    budaya  pusat  \\\n",
       "destination_name                                                                \n",
       "Pantai Marina         0.685322    0.000000     0.0  0.728241  0.000000    0.0   \n",
       "Bandros City Tour     0.000000    0.000000     0.0  0.000000  0.715975    0.0   \n",
       "Goa Pindul            0.000000    0.548987     0.0  0.000000  0.000000    0.0   \n",
       "Sungai Palayangan     0.000000    0.000000     0.0  0.000000  0.000000    0.0   \n",
       "Tugu Pal Putih Jogja  0.000000    0.589307     0.0  0.000000  0.000000    0.0   \n",
       "\n",
       "                      surabaya     taman  perbelanjaan   bandung   hiburan  \\\n",
       "destination_name                                                             \n",
       "Pantai Marina              0.0  0.000000           0.0  0.000000  0.000000   \n",
       "Bandros City Tour          0.0  0.000000           0.0  0.698125  0.000000   \n",
       "Goa Pindul                 0.0  0.000000           0.0  0.000000  0.000000   \n",
       "Sungai Palayangan          0.0  0.000000           0.0  0.551699  0.000000   \n",
       "Tugu Pal Putih Jogja       0.0  0.571278           0.0  0.000000  0.571278   \n",
       "\n",
       "                          alam  tempat     cagar  jakarta  \n",
       "destination_name                                           \n",
       "Pantai Marina         0.000000     0.0  0.000000      0.0  \n",
       "Bandros City Tour     0.000000     0.0  0.000000      0.0  \n",
       "Goa Pindul            0.591021     0.0  0.591021      0.0  \n",
       "Sungai Palayangan     0.589758     0.0  0.589758      0.0  \n",
       "Tugu Pal Putih Jogja  0.000000     0.0  0.000000      0.0  "
      ]
     },
     "execution_count": 35,
     "metadata": {},
     "output_type": "execute_result"
    }
   ],
   "source": [
    "pd.DataFrame(\n",
    "    tfidf_matrix.todense(),\n",
    "    columns=tfidf.get_feature_names_out(),\n",
    "    index=data_rekomen_cosine['destination_name']\n",
    ").sample(15, axis=1).sample(5, axis=0)"
   ]
  },
  {
   "cell_type": "markdown",
   "metadata": {},
   "source": [
    "Menghitung cosine similarity antara setiap pasangan destinasi berdasarkan representasi TF-IDF"
   ]
  },
  {
   "cell_type": "code",
   "execution_count": 36,
   "metadata": {},
   "outputs": [
    {
     "data": {
      "text/plain": [
       "array([[1.        , 0.        , 0.        , ..., 0.        , 0.        ,\n",
       "        0.4099171 ],\n",
       "       [0.        , 1.        , 0.        , ..., 0.56256337, 0.        ,\n",
       "        0.        ],\n",
       "       [0.        , 0.        , 1.        , ..., 0.41413775, 0.39938865,\n",
       "        0.61245683],\n",
       "       ...,\n",
       "       [0.        , 0.56256337, 0.41413775, ..., 1.        , 0.38888769,\n",
       "        0.        ],\n",
       "       [0.        , 0.        , 0.39938865, ..., 0.38888769, 1.        ,\n",
       "        0.        ],\n",
       "       [0.4099171 , 0.        , 0.61245683, ..., 0.        , 0.        ,\n",
       "        1.        ]])"
      ]
     },
     "execution_count": 36,
     "metadata": {},
     "output_type": "execute_result"
    }
   ],
   "source": [
    "cosine_sim = cosine_similarity(tfidf_matrix)\n",
    "cosine_sim"
   ]
  },
  {
   "cell_type": "markdown",
   "metadata": {},
   "source": [
    "Mengubah matriks cosine similarity menjadi DataFrame Pandas, memberikan nama destinasi sebagai indeks dan kolom, lalu mencetak ukuran DataFrame dan menampilkan 5 baris teratas"
   ]
  },
  {
   "cell_type": "code",
   "execution_count": 37,
   "metadata": {},
   "outputs": [
    {
     "name": "stdout",
     "output_type": "stream",
     "text": [
      "Ukuran data: (437, 437)\n"
     ]
    },
    {
     "data": {
      "text/html": [
       "<div>\n",
       "<style scoped>\n",
       "    .dataframe tbody tr th:only-of-type {\n",
       "        vertical-align: middle;\n",
       "    }\n",
       "\n",
       "    .dataframe tbody tr th {\n",
       "        vertical-align: top;\n",
       "    }\n",
       "\n",
       "    .dataframe thead th {\n",
       "        text-align: right;\n",
       "    }\n",
       "</style>\n",
       "<table border=\"1\" class=\"dataframe\">\n",
       "  <thead>\n",
       "    <tr style=\"text-align: right;\">\n",
       "      <th>destination_name</th>\n",
       "      <th>Candi Ratu Boko</th>\n",
       "      <th>Pantai Marina</th>\n",
       "      <th>Atlantis Water Adventure</th>\n",
       "      <th>Museum Kereta Ambarawa</th>\n",
       "      <th>Kampung Wisata Sosro Menduran</th>\n",
       "      <th>Taman Hutan Raya Ir. H. Juanda</th>\n",
       "      <th>Museum Gedung Sate</th>\n",
       "      <th>Museum Taman Prasasti</th>\n",
       "      <th>Pantai Ngrawe (Mesra)</th>\n",
       "      <th>Taman Harmoni Keputih</th>\n",
       "      <th>...</th>\n",
       "      <th>Taman Lapangan Banteng</th>\n",
       "      <th>Jakarta Planetarium</th>\n",
       "      <th>Wisata Kampung Krisan Clapar</th>\n",
       "      <th>Monumen Tugu Pahlawan</th>\n",
       "      <th>Taman Vanda</th>\n",
       "      <th>Benteng Pendem</th>\n",
       "      <th>Pantai Cipta</th>\n",
       "      <th>Pulau Tidung</th>\n",
       "      <th>Kebun Binatang Ragunan</th>\n",
       "      <th>Bendung Lepen</th>\n",
       "    </tr>\n",
       "    <tr>\n",
       "      <th>destination_name</th>\n",
       "      <th></th>\n",
       "      <th></th>\n",
       "      <th></th>\n",
       "      <th></th>\n",
       "      <th></th>\n",
       "      <th></th>\n",
       "      <th></th>\n",
       "      <th></th>\n",
       "      <th></th>\n",
       "      <th></th>\n",
       "      <th></th>\n",
       "      <th></th>\n",
       "      <th></th>\n",
       "      <th></th>\n",
       "      <th></th>\n",
       "      <th></th>\n",
       "      <th></th>\n",
       "      <th></th>\n",
       "      <th></th>\n",
       "      <th></th>\n",
       "      <th></th>\n",
       "    </tr>\n",
       "  </thead>\n",
       "  <tbody>\n",
       "    <tr>\n",
       "      <th>Candi Ratu Boko</th>\n",
       "      <td>1.000000</td>\n",
       "      <td>0.000000</td>\n",
       "      <td>0.0</td>\n",
       "      <td>0.436506</td>\n",
       "      <td>1.000000</td>\n",
       "      <td>0.0</td>\n",
       "      <td>0.514383</td>\n",
       "      <td>0.473316</td>\n",
       "      <td>0.397740</td>\n",
       "      <td>0.0</td>\n",
       "      <td>...</td>\n",
       "      <td>0.0</td>\n",
       "      <td>0.0</td>\n",
       "      <td>0.000000</td>\n",
       "      <td>0.417932</td>\n",
       "      <td>0.000000</td>\n",
       "      <td>0.436506</td>\n",
       "      <td>0.000000</td>\n",
       "      <td>0.000000</td>\n",
       "      <td>0.000000</td>\n",
       "      <td>0.409917</td>\n",
       "    </tr>\n",
       "    <tr>\n",
       "      <th>Pantai Marina</th>\n",
       "      <td>0.000000</td>\n",
       "      <td>1.000000</td>\n",
       "      <td>0.0</td>\n",
       "      <td>0.544324</td>\n",
       "      <td>0.000000</td>\n",
       "      <td>0.0</td>\n",
       "      <td>0.000000</td>\n",
       "      <td>0.000000</td>\n",
       "      <td>0.597443</td>\n",
       "      <td>0.0</td>\n",
       "      <td>...</td>\n",
       "      <td>0.0</td>\n",
       "      <td>0.0</td>\n",
       "      <td>0.480885</td>\n",
       "      <td>0.000000</td>\n",
       "      <td>0.000000</td>\n",
       "      <td>0.544324</td>\n",
       "      <td>1.000000</td>\n",
       "      <td>0.562563</td>\n",
       "      <td>0.000000</td>\n",
       "      <td>0.000000</td>\n",
       "    </tr>\n",
       "    <tr>\n",
       "      <th>Atlantis Water Adventure</th>\n",
       "      <td>0.000000</td>\n",
       "      <td>0.000000</td>\n",
       "      <td>1.0</td>\n",
       "      <td>0.000000</td>\n",
       "      <td>0.000000</td>\n",
       "      <td>0.0</td>\n",
       "      <td>0.000000</td>\n",
       "      <td>0.490629</td>\n",
       "      <td>0.000000</td>\n",
       "      <td>0.0</td>\n",
       "      <td>...</td>\n",
       "      <td>1.0</td>\n",
       "      <td>1.0</td>\n",
       "      <td>0.540114</td>\n",
       "      <td>0.000000</td>\n",
       "      <td>0.610949</td>\n",
       "      <td>0.000000</td>\n",
       "      <td>0.000000</td>\n",
       "      <td>0.414138</td>\n",
       "      <td>0.399389</td>\n",
       "      <td>0.612457</td>\n",
       "    </tr>\n",
       "    <tr>\n",
       "      <th>Museum Kereta Ambarawa</th>\n",
       "      <td>0.436506</td>\n",
       "      <td>0.544324</td>\n",
       "      <td>0.0</td>\n",
       "      <td>1.000000</td>\n",
       "      <td>0.436506</td>\n",
       "      <td>0.0</td>\n",
       "      <td>0.435010</td>\n",
       "      <td>0.400280</td>\n",
       "      <td>0.000000</td>\n",
       "      <td>0.0</td>\n",
       "      <td>...</td>\n",
       "      <td>0.0</td>\n",
       "      <td>0.0</td>\n",
       "      <td>0.557327</td>\n",
       "      <td>0.353442</td>\n",
       "      <td>0.000000</td>\n",
       "      <td>1.000000</td>\n",
       "      <td>0.544324</td>\n",
       "      <td>0.000000</td>\n",
       "      <td>0.000000</td>\n",
       "      <td>0.000000</td>\n",
       "    </tr>\n",
       "    <tr>\n",
       "      <th>Kampung Wisata Sosro Menduran</th>\n",
       "      <td>1.000000</td>\n",
       "      <td>0.000000</td>\n",
       "      <td>0.0</td>\n",
       "      <td>0.436506</td>\n",
       "      <td>1.000000</td>\n",
       "      <td>0.0</td>\n",
       "      <td>0.514383</td>\n",
       "      <td>0.473316</td>\n",
       "      <td>0.397740</td>\n",
       "      <td>0.0</td>\n",
       "      <td>...</td>\n",
       "      <td>0.0</td>\n",
       "      <td>0.0</td>\n",
       "      <td>0.000000</td>\n",
       "      <td>0.417932</td>\n",
       "      <td>0.000000</td>\n",
       "      <td>0.436506</td>\n",
       "      <td>0.000000</td>\n",
       "      <td>0.000000</td>\n",
       "      <td>0.000000</td>\n",
       "      <td>0.409917</td>\n",
       "    </tr>\n",
       "  </tbody>\n",
       "</table>\n",
       "<p>5 rows × 437 columns</p>\n",
       "</div>"
      ],
      "text/plain": [
       "destination_name               Candi Ratu Boko  Pantai Marina  \\\n",
       "destination_name                                                \n",
       "Candi Ratu Boko                       1.000000       0.000000   \n",
       "Pantai Marina                         0.000000       1.000000   \n",
       "Atlantis Water Adventure              0.000000       0.000000   \n",
       "Museum Kereta Ambarawa                0.436506       0.544324   \n",
       "Kampung Wisata Sosro Menduran         1.000000       0.000000   \n",
       "\n",
       "destination_name               Atlantis Water Adventure  \\\n",
       "destination_name                                          \n",
       "Candi Ratu Boko                                     0.0   \n",
       "Pantai Marina                                       0.0   \n",
       "Atlantis Water Adventure                            1.0   \n",
       "Museum Kereta Ambarawa                              0.0   \n",
       "Kampung Wisata Sosro Menduran                       0.0   \n",
       "\n",
       "destination_name               Museum Kereta Ambarawa  \\\n",
       "destination_name                                        \n",
       "Candi Ratu Boko                              0.436506   \n",
       "Pantai Marina                                0.544324   \n",
       "Atlantis Water Adventure                     0.000000   \n",
       "Museum Kereta Ambarawa                       1.000000   \n",
       "Kampung Wisata Sosro Menduran                0.436506   \n",
       "\n",
       "destination_name               Kampung Wisata Sosro Menduran  \\\n",
       "destination_name                                               \n",
       "Candi Ratu Boko                                     1.000000   \n",
       "Pantai Marina                                       0.000000   \n",
       "Atlantis Water Adventure                            0.000000   \n",
       "Museum Kereta Ambarawa                              0.436506   \n",
       "Kampung Wisata Sosro Menduran                       1.000000   \n",
       "\n",
       "destination_name               Taman Hutan Raya Ir. H. Juanda  \\\n",
       "destination_name                                                \n",
       "Candi Ratu Boko                                           0.0   \n",
       "Pantai Marina                                             0.0   \n",
       "Atlantis Water Adventure                                  0.0   \n",
       "Museum Kereta Ambarawa                                    0.0   \n",
       "Kampung Wisata Sosro Menduran                             0.0   \n",
       "\n",
       "destination_name               Museum Gedung Sate  Museum Taman Prasasti  \\\n",
       "destination_name                                                           \n",
       "Candi Ratu Boko                          0.514383               0.473316   \n",
       "Pantai Marina                            0.000000               0.000000   \n",
       "Atlantis Water Adventure                 0.000000               0.490629   \n",
       "Museum Kereta Ambarawa                   0.435010               0.400280   \n",
       "Kampung Wisata Sosro Menduran            0.514383               0.473316   \n",
       "\n",
       "destination_name               Pantai Ngrawe (Mesra)  Taman Harmoni Keputih  \\\n",
       "destination_name                                                              \n",
       "Candi Ratu Boko                             0.397740                    0.0   \n",
       "Pantai Marina                               0.597443                    0.0   \n",
       "Atlantis Water Adventure                    0.000000                    0.0   \n",
       "Museum Kereta Ambarawa                      0.000000                    0.0   \n",
       "Kampung Wisata Sosro Menduran               0.397740                    0.0   \n",
       "\n",
       "destination_name               ...  Taman Lapangan Banteng  \\\n",
       "destination_name               ...                           \n",
       "Candi Ratu Boko                ...                     0.0   \n",
       "Pantai Marina                  ...                     0.0   \n",
       "Atlantis Water Adventure       ...                     1.0   \n",
       "Museum Kereta Ambarawa         ...                     0.0   \n",
       "Kampung Wisata Sosro Menduran  ...                     0.0   \n",
       "\n",
       "destination_name               Jakarta Planetarium  \\\n",
       "destination_name                                     \n",
       "Candi Ratu Boko                                0.0   \n",
       "Pantai Marina                                  0.0   \n",
       "Atlantis Water Adventure                       1.0   \n",
       "Museum Kereta Ambarawa                         0.0   \n",
       "Kampung Wisata Sosro Menduran                  0.0   \n",
       "\n",
       "destination_name               Wisata Kampung Krisan Clapar  \\\n",
       "destination_name                                              \n",
       "Candi Ratu Boko                                    0.000000   \n",
       "Pantai Marina                                      0.480885   \n",
       "Atlantis Water Adventure                           0.540114   \n",
       "Museum Kereta Ambarawa                             0.557327   \n",
       "Kampung Wisata Sosro Menduran                      0.000000   \n",
       "\n",
       "destination_name               Monumen Tugu Pahlawan  Taman Vanda  \\\n",
       "destination_name                                                    \n",
       "Candi Ratu Boko                             0.417932     0.000000   \n",
       "Pantai Marina                               0.000000     0.000000   \n",
       "Atlantis Water Adventure                    0.000000     0.610949   \n",
       "Museum Kereta Ambarawa                      0.353442     0.000000   \n",
       "Kampung Wisata Sosro Menduran               0.417932     0.000000   \n",
       "\n",
       "destination_name               Benteng Pendem  Pantai Cipta  Pulau Tidung  \\\n",
       "destination_name                                                            \n",
       "Candi Ratu Boko                      0.436506      0.000000      0.000000   \n",
       "Pantai Marina                        0.544324      1.000000      0.562563   \n",
       "Atlantis Water Adventure             0.000000      0.000000      0.414138   \n",
       "Museum Kereta Ambarawa               1.000000      0.544324      0.000000   \n",
       "Kampung Wisata Sosro Menduran        0.436506      0.000000      0.000000   \n",
       "\n",
       "destination_name               Kebun Binatang Ragunan  Bendung Lepen  \n",
       "destination_name                                                      \n",
       "Candi Ratu Boko                              0.000000       0.409917  \n",
       "Pantai Marina                                0.000000       0.000000  \n",
       "Atlantis Water Adventure                     0.399389       0.612457  \n",
       "Museum Kereta Ambarawa                       0.000000       0.000000  \n",
       "Kampung Wisata Sosro Menduran                0.000000       0.409917  \n",
       "\n",
       "[5 rows x 437 columns]"
      ]
     },
     "execution_count": 37,
     "metadata": {},
     "output_type": "execute_result"
    }
   ],
   "source": [
    "cosine_sim_data = pd.DataFrame(\n",
    "    cosine_sim,\n",
    "    index=data_rekomen_cosine['destination_name'],\n",
    "    columns=data_rekomen_cosine['destination_name'],\n",
    ")\n",
    "print(f\"Ukuran data: {cosine_sim_data.shape}\")\n",
    "cosine_sim_data.head()"
   ]
  },
  {
   "cell_type": "markdown",
   "metadata": {},
   "source": [
    "Membuat fungsi rekomendasi destinasi berdasarkan nama destinasi yang diberikan dan menampilkan N destinasi yang paling mirip"
   ]
  },
  {
   "cell_type": "code",
   "execution_count": 40,
   "metadata": {},
   "outputs": [],
   "source": [
    "def destination_recommender(\n",
    "    destination_name,\n",
    "    data_similarity=cosine_sim_data,\n",
    "    items=data_rekomen_cosine[[\"destination_name\", \"destination_tag\"]],\n",
    "    topn=5,\n",
    "):\n",
    "    index = data_similarity.loc[:, destination_name].to_numpy().argpartition(range(-1, -topn, -1))\n",
    "    closest = data_similarity.columns[index[-1 : -(topn + 2) : -1]]\n",
    "    closest = closest.drop(destination_name, errors=\"ignore\")\n",
    "    return pd.DataFrame(closest).merge(items).head(topn)\n"
   ]
  },
  {
   "cell_type": "markdown",
   "metadata": {},
   "source": [
    "Mengambil salah satu nama destinasi secara acak yang akan digunakan untuk melihat rekomendasi destinasi yang mirip"
   ]
  },
  {
   "cell_type": "code",
   "execution_count": 64,
   "metadata": {},
   "outputs": [
    {
     "name": "stdout",
     "output_type": "stream",
     "text": [
      "Destination Name: Taman Kupu-Kupu Cihanjuang\n",
      "Destination Tag: Cagar Alam, Bandung\n"
     ]
    }
   ],
   "source": [
    "data_rekomen_cosine[data_rekomen_cosine['destination_name'].eq('Museum Nasional')]\n",
    "random_destination = data_rekomen_cosine.sample(1).iloc[0]\n",
    "print(f\"Destination Name: {random_destination['destination_name']}\")\n",
    "print(f\"Destination Tag: {random_destination['destination_tag']}\")"
   ]
  },
  {
   "cell_type": "markdown",
   "metadata": {},
   "source": [
    "Melihat 10 hasil rekomendasi berdasarkan cosine similarity"
   ]
  },
  {
   "cell_type": "code",
   "execution_count": 65,
   "metadata": {},
   "outputs": [
    {
     "data": {
      "text/html": [
       "<div>\n",
       "<style scoped>\n",
       "    .dataframe tbody tr th:only-of-type {\n",
       "        vertical-align: middle;\n",
       "    }\n",
       "\n",
       "    .dataframe tbody tr th {\n",
       "        vertical-align: top;\n",
       "    }\n",
       "\n",
       "    .dataframe thead th {\n",
       "        text-align: right;\n",
       "    }\n",
       "</style>\n",
       "<table border=\"1\" class=\"dataframe\">\n",
       "  <thead>\n",
       "    <tr style=\"text-align: right;\">\n",
       "      <th></th>\n",
       "      <th>destination_name</th>\n",
       "      <th>destination_tag</th>\n",
       "    </tr>\n",
       "  </thead>\n",
       "  <tbody>\n",
       "    <tr>\n",
       "      <th>0</th>\n",
       "      <td>Gua Belanda</td>\n",
       "      <td>Cagar Alam, Bandung</td>\n",
       "    </tr>\n",
       "    <tr>\n",
       "      <th>1</th>\n",
       "      <td>Curug Malela</td>\n",
       "      <td>Cagar Alam, Bandung</td>\n",
       "    </tr>\n",
       "    <tr>\n",
       "      <th>2</th>\n",
       "      <td>Bumi Perkemahan Batu Kuda</td>\n",
       "      <td>Cagar Alam, Bandung</td>\n",
       "    </tr>\n",
       "    <tr>\n",
       "      <th>3</th>\n",
       "      <td>Taman Bunga Cihideung</td>\n",
       "      <td>Cagar Alam, Bandung</td>\n",
       "    </tr>\n",
       "    <tr>\n",
       "      <th>4</th>\n",
       "      <td>Wot Batu</td>\n",
       "      <td>Cagar Alam, Bandung</td>\n",
       "    </tr>\n",
       "    <tr>\n",
       "      <th>5</th>\n",
       "      <td>Kawah Rengganis Cibuni</td>\n",
       "      <td>Cagar Alam, Bandung</td>\n",
       "    </tr>\n",
       "    <tr>\n",
       "      <th>6</th>\n",
       "      <td>The Lodge Maribaya</td>\n",
       "      <td>Cagar Alam, Bandung</td>\n",
       "    </tr>\n",
       "    <tr>\n",
       "      <th>7</th>\n",
       "      <td>Sendang Geulis Kahuripan</td>\n",
       "      <td>Cagar Alam, Bandung</td>\n",
       "    </tr>\n",
       "    <tr>\n",
       "      <th>8</th>\n",
       "      <td>GunungTangkuban perahu</td>\n",
       "      <td>Cagar Alam, Bandung</td>\n",
       "    </tr>\n",
       "    <tr>\n",
       "      <th>9</th>\n",
       "      <td>Taman Hutan Raya Ir. H. Djuanda</td>\n",
       "      <td>Cagar Alam, Bandung</td>\n",
       "    </tr>\n",
       "  </tbody>\n",
       "</table>\n",
       "</div>"
      ],
      "text/plain": [
       "                  destination_name      destination_tag\n",
       "0                      Gua Belanda  Cagar Alam, Bandung\n",
       "1                     Curug Malela  Cagar Alam, Bandung\n",
       "2        Bumi Perkemahan Batu Kuda  Cagar Alam, Bandung\n",
       "3            Taman Bunga Cihideung  Cagar Alam, Bandung\n",
       "4                         Wot Batu  Cagar Alam, Bandung\n",
       "5           Kawah Rengganis Cibuni  Cagar Alam, Bandung\n",
       "6               The Lodge Maribaya  Cagar Alam, Bandung\n",
       "7         Sendang Geulis Kahuripan  Cagar Alam, Bandung\n",
       "8           GunungTangkuban perahu  Cagar Alam, Bandung\n",
       "9  Taman Hutan Raya Ir. H. Djuanda  Cagar Alam, Bandung"
      ]
     },
     "execution_count": 65,
     "metadata": {},
     "output_type": "execute_result"
    }
   ],
   "source": [
    "destination_recommender(random_destination['destination_name'], topn=10)"
   ]
  },
  {
   "cell_type": "markdown",
   "metadata": {},
   "source": [
    "## Collaborative Filtering"
   ]
  },
  {
   "cell_type": "markdown",
   "metadata": {},
   "source": [
    "Melakukan encoding pada data user id"
   ]
  },
  {
   "cell_type": "code",
   "execution_count": 42,
   "metadata": {},
   "outputs": [
    {
     "name": "stdout",
     "output_type": "stream",
     "text": [
      "Daftar user_id:  [1, 2, 3, 4, 5, 6, 7, 8, 9, 10, 11, 12, 13, 14, 15, 16, 17, 18, 19, 20, 21, 22, 23, 24, 25, 26, 27, 28, 29, 30, 31, 32, 33, 34, 35, 36, 37, 38, 39, 40, 41, 42, 43, 44, 45, 46, 47, 48, 49, 50, 51, 52, 53, 54, 55, 56, 57, 58, 59, 60, 61, 62, 63, 64, 65, 66, 67, 68, 69, 70, 71, 72, 73, 74, 75, 76, 77, 78, 79, 80, 81, 82, 83, 84, 85, 86, 87, 88, 89, 90, 91, 92, 93, 94, 95, 96, 97, 98, 99, 100, 101, 102, 103, 104, 105, 106, 107, 108, 109, 110, 111, 112, 113, 114, 115, 116, 117, 118, 119, 120, 121, 122, 123, 124, 125, 126, 127, 128, 129, 130, 131, 132, 133, 134, 135, 136, 137, 138, 139, 140, 141, 142, 143, 144, 145, 146, 147, 148, 149, 150, 151, 152, 153, 154, 155, 156, 157, 158, 159, 160, 161, 162, 163, 164, 165, 166, 167, 168, 169, 170, 171, 172, 173, 174, 175, 176, 177, 178, 179, 180, 181, 182, 183, 184, 185, 186, 187, 188, 189, 190, 191, 192, 193, 194, 195, 196, 197, 198, 199, 200, 201, 202, 203, 204, 205, 206, 207, 208, 209, 210, 211, 212, 213, 214, 215, 216, 217, 218, 219, 220, 221, 222, 223, 224, 225, 226, 227, 228, 229, 230, 231, 232, 233, 234, 235, 236, 237, 238, 239, 240, 241, 242, 243, 244, 245, 246, 247, 248, 249, 250, 251, 252, 253, 254, 255, 256, 257, 258, 259, 260, 261, 262, 263, 264, 265, 266, 267, 268, 269, 270, 271, 272, 273, 274, 275, 276, 277, 278, 279, 280, 281, 282, 283, 284, 285, 286, 287, 288, 289, 290, 291, 292, 293, 294, 295, 296, 297, 298, 299, 300]\n",
      "Encoded user_id:  {1: 0, 2: 1, 3: 2, 4: 3, 5: 4, 6: 5, 7: 6, 8: 7, 9: 8, 10: 9, 11: 10, 12: 11, 13: 12, 14: 13, 15: 14, 16: 15, 17: 16, 18: 17, 19: 18, 20: 19, 21: 20, 22: 21, 23: 22, 24: 23, 25: 24, 26: 25, 27: 26, 28: 27, 29: 28, 30: 29, 31: 30, 32: 31, 33: 32, 34: 33, 35: 34, 36: 35, 37: 36, 38: 37, 39: 38, 40: 39, 41: 40, 42: 41, 43: 42, 44: 43, 45: 44, 46: 45, 47: 46, 48: 47, 49: 48, 50: 49, 51: 50, 52: 51, 53: 52, 54: 53, 55: 54, 56: 55, 57: 56, 58: 57, 59: 58, 60: 59, 61: 60, 62: 61, 63: 62, 64: 63, 65: 64, 66: 65, 67: 66, 68: 67, 69: 68, 70: 69, 71: 70, 72: 71, 73: 72, 74: 73, 75: 74, 76: 75, 77: 76, 78: 77, 79: 78, 80: 79, 81: 80, 82: 81, 83: 82, 84: 83, 85: 84, 86: 85, 87: 86, 88: 87, 89: 88, 90: 89, 91: 90, 92: 91, 93: 92, 94: 93, 95: 94, 96: 95, 97: 96, 98: 97, 99: 98, 100: 99, 101: 100, 102: 101, 103: 102, 104: 103, 105: 104, 106: 105, 107: 106, 108: 107, 109: 108, 110: 109, 111: 110, 112: 111, 113: 112, 114: 113, 115: 114, 116: 115, 117: 116, 118: 117, 119: 118, 120: 119, 121: 120, 122: 121, 123: 122, 124: 123, 125: 124, 126: 125, 127: 126, 128: 127, 129: 128, 130: 129, 131: 130, 132: 131, 133: 132, 134: 133, 135: 134, 136: 135, 137: 136, 138: 137, 139: 138, 140: 139, 141: 140, 142: 141, 143: 142, 144: 143, 145: 144, 146: 145, 147: 146, 148: 147, 149: 148, 150: 149, 151: 150, 152: 151, 153: 152, 154: 153, 155: 154, 156: 155, 157: 156, 158: 157, 159: 158, 160: 159, 161: 160, 162: 161, 163: 162, 164: 163, 165: 164, 166: 165, 167: 166, 168: 167, 169: 168, 170: 169, 171: 170, 172: 171, 173: 172, 174: 173, 175: 174, 176: 175, 177: 176, 178: 177, 179: 178, 180: 179, 181: 180, 182: 181, 183: 182, 184: 183, 185: 184, 186: 185, 187: 186, 188: 187, 189: 188, 190: 189, 191: 190, 192: 191, 193: 192, 194: 193, 195: 194, 196: 195, 197: 196, 198: 197, 199: 198, 200: 199, 201: 200, 202: 201, 203: 202, 204: 203, 205: 204, 206: 205, 207: 206, 208: 207, 209: 208, 210: 209, 211: 210, 212: 211, 213: 212, 214: 213, 215: 214, 216: 215, 217: 216, 218: 217, 219: 218, 220: 219, 221: 220, 222: 221, 223: 222, 224: 223, 225: 224, 226: 225, 227: 226, 228: 227, 229: 228, 230: 229, 231: 230, 232: 231, 233: 232, 234: 233, 235: 234, 236: 235, 237: 236, 238: 237, 239: 238, 240: 239, 241: 240, 242: 241, 243: 242, 244: 243, 245: 244, 246: 245, 247: 246, 248: 247, 249: 248, 250: 249, 251: 250, 252: 251, 253: 252, 254: 253, 255: 254, 256: 255, 257: 256, 258: 257, 259: 258, 260: 259, 261: 260, 262: 261, 263: 262, 264: 263, 265: 264, 266: 265, 267: 266, 268: 267, 269: 268, 270: 269, 271: 270, 272: 271, 273: 272, 274: 273, 275: 274, 276: 275, 277: 276, 278: 277, 279: 278, 280: 279, 281: 280, 282: 281, 283: 282, 284: 283, 285: 284, 286: 285, 287: 286, 288: 287, 289: 288, 290: 289, 291: 290, 292: 291, 293: 292, 294: 293, 295: 294, 296: 295, 297: 296, 298: 297, 299: 298, 300: 299}\n",
      "Encoded Angka ke user_id:  {0: 1, 1: 2, 2: 3, 3: 4, 4: 5, 5: 6, 6: 7, 7: 8, 8: 9, 9: 10, 10: 11, 11: 12, 12: 13, 13: 14, 14: 15, 15: 16, 16: 17, 17: 18, 18: 19, 19: 20, 20: 21, 21: 22, 22: 23, 23: 24, 24: 25, 25: 26, 26: 27, 27: 28, 28: 29, 29: 30, 30: 31, 31: 32, 32: 33, 33: 34, 34: 35, 35: 36, 36: 37, 37: 38, 38: 39, 39: 40, 40: 41, 41: 42, 42: 43, 43: 44, 44: 45, 45: 46, 46: 47, 47: 48, 48: 49, 49: 50, 50: 51, 51: 52, 52: 53, 53: 54, 54: 55, 55: 56, 56: 57, 57: 58, 58: 59, 59: 60, 60: 61, 61: 62, 62: 63, 63: 64, 64: 65, 65: 66, 66: 67, 67: 68, 68: 69, 69: 70, 70: 71, 71: 72, 72: 73, 73: 74, 74: 75, 75: 76, 76: 77, 77: 78, 78: 79, 79: 80, 80: 81, 81: 82, 82: 83, 83: 84, 84: 85, 85: 86, 86: 87, 87: 88, 88: 89, 89: 90, 90: 91, 91: 92, 92: 93, 93: 94, 94: 95, 95: 96, 96: 97, 97: 98, 98: 99, 99: 100, 100: 101, 101: 102, 102: 103, 103: 104, 104: 105, 105: 106, 106: 107, 107: 108, 108: 109, 109: 110, 110: 111, 111: 112, 112: 113, 113: 114, 114: 115, 115: 116, 116: 117, 117: 118, 118: 119, 119: 120, 120: 121, 121: 122, 122: 123, 123: 124, 124: 125, 125: 126, 126: 127, 127: 128, 128: 129, 129: 130, 130: 131, 131: 132, 132: 133, 133: 134, 134: 135, 135: 136, 136: 137, 137: 138, 138: 139, 139: 140, 140: 141, 141: 142, 142: 143, 143: 144, 144: 145, 145: 146, 146: 147, 147: 148, 148: 149, 149: 150, 150: 151, 151: 152, 152: 153, 153: 154, 154: 155, 155: 156, 156: 157, 157: 158, 158: 159, 159: 160, 160: 161, 161: 162, 162: 163, 163: 164, 164: 165, 165: 166, 166: 167, 167: 168, 168: 169, 169: 170, 170: 171, 171: 172, 172: 173, 173: 174, 174: 175, 175: 176, 176: 177, 177: 178, 178: 179, 179: 180, 180: 181, 181: 182, 182: 183, 183: 184, 184: 185, 185: 186, 186: 187, 187: 188, 188: 189, 189: 190, 190: 191, 191: 192, 192: 193, 193: 194, 194: 195, 195: 196, 196: 197, 197: 198, 198: 199, 199: 200, 200: 201, 201: 202, 202: 203, 203: 204, 204: 205, 205: 206, 206: 207, 207: 208, 208: 209, 209: 210, 210: 211, 211: 212, 212: 213, 213: 214, 214: 215, 215: 216, 216: 217, 217: 218, 218: 219, 219: 220, 220: 221, 221: 222, 222: 223, 223: 224, 224: 225, 225: 226, 226: 227, 227: 228, 228: 229, 229: 230, 230: 231, 231: 232, 232: 233, 233: 234, 234: 235, 235: 236, 236: 237, 237: 238, 238: 239, 239: 240, 240: 241, 241: 242, 242: 243, 243: 244, 244: 245, 245: 246, 246: 247, 247: 248, 248: 249, 249: 250, 250: 251, 251: 252, 252: 253, 253: 254, 254: 255, 255: 256, 256: 257, 257: 258, 258: 259, 259: 260, 260: 261, 261: 262, 262: 263, 263: 264, 264: 265, 265: 266, 266: 267, 267: 268, 268: 269, 269: 270, 270: 271, 271: 272, 272: 273, 273: 274, 274: 275, 275: 276, 276: 277, 277: 278, 278: 279, 279: 280, 280: 281, 281: 282, 282: 283, 283: 284, 284: 285, 285: 286, 286: 287, 287: 288, 288: 289, 289: 290, 290: 291, 291: 292, 292: 293, 293: 294, 294: 295, 295: 296, 296: 297, 297: 298, 298: 299, 299: 300}\n"
     ]
    }
   ],
   "source": [
    "user_id = df_rating[\"User_Id\"].unique().tolist()\n",
    "print(\"Daftar user_id: \", user_id)\n",
    "\n",
    "user_id_to_encoded = {x: i for i, x in enumerate(user_id)}\n",
    "print(\"Encoded user_id: \", user_id_to_encoded)\n",
    "\n",
    "user_encoded_to_user = {i: x for i, x in enumerate(user_id)}\n",
    "print(\"Encoded Angka ke user_id: \", user_encoded_to_user)\n"
   ]
  },
  {
   "cell_type": "markdown",
   "metadata": {},
   "source": [
    "Melakukan encoding pada data place id"
   ]
  },
  {
   "cell_type": "code",
   "execution_count": 43,
   "metadata": {},
   "outputs": [
    {
     "name": "stdout",
     "output_type": "stream",
     "text": [
      "Daftar destination_id:  [179, 344, 5, 373, 101, 312, 258, 20, 154, 393, 103, 208, 89, 405, 41, 336, 67, 292, 222, 76, 428, 15, 246, 265, 21, 328, 307, 302, 48, 147, 2, 322, 23, 85, 371, 78, 111, 107, 185, 413, 389, 437, 105, 176, 407, 281, 167, 384, 426, 390, 367, 166, 18, 321, 262, 223, 17, 319, 310, 421, 202, 283, 250, 118, 54, 70, 33, 227, 86, 249, 131, 382, 193, 104, 24, 128, 134, 228, 237, 100, 198, 50, 376, 268, 242, 82, 348, 409, 88, 4, 377, 43, 91, 44, 14, 406, 383, 229, 290, 294, 309, 74, 97, 138, 436, 395, 300, 68, 55, 434, 9, 151, 61, 159, 397, 391, 301, 143, 27, 190, 346, 381, 368, 433, 420, 335, 115, 334, 219, 178, 266, 92, 64, 102, 257, 243, 116, 359, 121, 385, 398, 119, 298, 410, 224, 379, 255, 269, 213, 126, 192, 183, 129, 303, 296, 99, 148, 13, 247, 31, 77, 158, 306, 98, 235, 45, 173, 275, 25, 130, 164, 267, 56, 30, 238, 402, 196, 417, 304, 206, 211, 28, 264, 403, 253, 331, 188, 416, 378, 233, 95, 204, 225, 341, 145, 36, 168, 12, 280, 236, 42, 90, 75, 63, 205, 234, 284, 230, 197, 339, 35, 226, 430, 37, 109, 355, 186, 149, 6, 150, 11, 127, 429, 194, 49, 369, 94, 274, 72, 46, 65, 203, 139, 141, 71, 52, 293, 422, 214, 114, 191, 156, 177, 163, 142, 245, 325, 259, 396, 96, 8, 362, 435, 59, 171, 277, 342, 365, 340, 260, 187, 297, 207, 248, 153, 239, 360, 170, 357, 73, 201, 252, 414, 132, 26, 347, 270, 16, 19, 318, 256, 181, 199, 288, 330, 3, 47, 32, 308, 210, 279, 289, 332, 80, 375, 182, 412, 272, 184, 113, 399, 261, 112, 327, 418, 84, 400, 195, 34, 295, 38, 165, 212, 124, 432, 317, 333, 81, 374, 136, 278, 108, 404, 83, 425, 22, 349, 411, 241, 427, 209, 323, 137, 315, 62, 244, 135, 169, 366, 152, 29, 60, 240, 200, 161, 66, 372, 338, 311, 53, 392, 299, 386, 337, 326, 423, 352, 172, 286, 251, 162, 356, 93, 160, 125, 316, 123, 174, 221, 408, 263, 358, 353, 401, 364, 215, 110, 144, 40, 291, 431, 120, 216, 313, 157, 282, 231, 324, 329, 345, 39, 273, 122, 79, 388, 380, 343, 254, 117, 133, 1, 354, 287, 155, 285, 58, 69, 305, 218, 220, 189, 106, 87, 351, 363, 175, 180, 415, 387, 394, 424, 146, 232, 314, 320, 276, 217, 57, 51, 361, 419, 271, 370, 350, 10, 7, 140]\n",
      "Encoded destination_id:  {179: 0, 344: 1, 5: 2, 373: 3, 101: 4, 312: 5, 258: 6, 20: 7, 154: 8, 393: 9, 103: 10, 208: 11, 89: 12, 405: 13, 41: 14, 336: 15, 67: 16, 292: 17, 222: 18, 76: 19, 428: 20, 15: 21, 246: 22, 265: 23, 21: 24, 328: 25, 307: 26, 302: 27, 48: 28, 147: 29, 2: 30, 322: 31, 23: 32, 85: 33, 371: 34, 78: 35, 111: 36, 107: 37, 185: 38, 413: 39, 389: 40, 437: 41, 105: 42, 176: 43, 407: 44, 281: 45, 167: 46, 384: 47, 426: 48, 390: 49, 367: 50, 166: 51, 18: 52, 321: 53, 262: 54, 223: 55, 17: 56, 319: 57, 310: 58, 421: 59, 202: 60, 283: 61, 250: 62, 118: 63, 54: 64, 70: 65, 33: 66, 227: 67, 86: 68, 249: 69, 131: 70, 382: 71, 193: 72, 104: 73, 24: 74, 128: 75, 134: 76, 228: 77, 237: 78, 100: 79, 198: 80, 50: 81, 376: 82, 268: 83, 242: 84, 82: 85, 348: 86, 409: 87, 88: 88, 4: 89, 377: 90, 43: 91, 91: 92, 44: 93, 14: 94, 406: 95, 383: 96, 229: 97, 290: 98, 294: 99, 309: 100, 74: 101, 97: 102, 138: 103, 436: 104, 395: 105, 300: 106, 68: 107, 55: 108, 434: 109, 9: 110, 151: 111, 61: 112, 159: 113, 397: 114, 391: 115, 301: 116, 143: 117, 27: 118, 190: 119, 346: 120, 381: 121, 368: 122, 433: 123, 420: 124, 335: 125, 115: 126, 334: 127, 219: 128, 178: 129, 266: 130, 92: 131, 64: 132, 102: 133, 257: 134, 243: 135, 116: 136, 359: 137, 121: 138, 385: 139, 398: 140, 119: 141, 298: 142, 410: 143, 224: 144, 379: 145, 255: 146, 269: 147, 213: 148, 126: 149, 192: 150, 183: 151, 129: 152, 303: 153, 296: 154, 99: 155, 148: 156, 13: 157, 247: 158, 31: 159, 77: 160, 158: 161, 306: 162, 98: 163, 235: 164, 45: 165, 173: 166, 275: 167, 25: 168, 130: 169, 164: 170, 267: 171, 56: 172, 30: 173, 238: 174, 402: 175, 196: 176, 417: 177, 304: 178, 206: 179, 211: 180, 28: 181, 264: 182, 403: 183, 253: 184, 331: 185, 188: 186, 416: 187, 378: 188, 233: 189, 95: 190, 204: 191, 225: 192, 341: 193, 145: 194, 36: 195, 168: 196, 12: 197, 280: 198, 236: 199, 42: 200, 90: 201, 75: 202, 63: 203, 205: 204, 234: 205, 284: 206, 230: 207, 197: 208, 339: 209, 35: 210, 226: 211, 430: 212, 37: 213, 109: 214, 355: 215, 186: 216, 149: 217, 6: 218, 150: 219, 11: 220, 127: 221, 429: 222, 194: 223, 49: 224, 369: 225, 94: 226, 274: 227, 72: 228, 46: 229, 65: 230, 203: 231, 139: 232, 141: 233, 71: 234, 52: 235, 293: 236, 422: 237, 214: 238, 114: 239, 191: 240, 156: 241, 177: 242, 163: 243, 142: 244, 245: 245, 325: 246, 259: 247, 396: 248, 96: 249, 8: 250, 362: 251, 435: 252, 59: 253, 171: 254, 277: 255, 342: 256, 365: 257, 340: 258, 260: 259, 187: 260, 297: 261, 207: 262, 248: 263, 153: 264, 239: 265, 360: 266, 170: 267, 357: 268, 73: 269, 201: 270, 252: 271, 414: 272, 132: 273, 26: 274, 347: 275, 270: 276, 16: 277, 19: 278, 318: 279, 256: 280, 181: 281, 199: 282, 288: 283, 330: 284, 3: 285, 47: 286, 32: 287, 308: 288, 210: 289, 279: 290, 289: 291, 332: 292, 80: 293, 375: 294, 182: 295, 412: 296, 272: 297, 184: 298, 113: 299, 399: 300, 261: 301, 112: 302, 327: 303, 418: 304, 84: 305, 400: 306, 195: 307, 34: 308, 295: 309, 38: 310, 165: 311, 212: 312, 124: 313, 432: 314, 317: 315, 333: 316, 81: 317, 374: 318, 136: 319, 278: 320, 108: 321, 404: 322, 83: 323, 425: 324, 22: 325, 349: 326, 411: 327, 241: 328, 427: 329, 209: 330, 323: 331, 137: 332, 315: 333, 62: 334, 244: 335, 135: 336, 169: 337, 366: 338, 152: 339, 29: 340, 60: 341, 240: 342, 200: 343, 161: 344, 66: 345, 372: 346, 338: 347, 311: 348, 53: 349, 392: 350, 299: 351, 386: 352, 337: 353, 326: 354, 423: 355, 352: 356, 172: 357, 286: 358, 251: 359, 162: 360, 356: 361, 93: 362, 160: 363, 125: 364, 316: 365, 123: 366, 174: 367, 221: 368, 408: 369, 263: 370, 358: 371, 353: 372, 401: 373, 364: 374, 215: 375, 110: 376, 144: 377, 40: 378, 291: 379, 431: 380, 120: 381, 216: 382, 313: 383, 157: 384, 282: 385, 231: 386, 324: 387, 329: 388, 345: 389, 39: 390, 273: 391, 122: 392, 79: 393, 388: 394, 380: 395, 343: 396, 254: 397, 117: 398, 133: 399, 1: 400, 354: 401, 287: 402, 155: 403, 285: 404, 58: 405, 69: 406, 305: 407, 218: 408, 220: 409, 189: 410, 106: 411, 87: 412, 351: 413, 363: 414, 175: 415, 180: 416, 415: 417, 387: 418, 394: 419, 424: 420, 146: 421, 232: 422, 314: 423, 320: 424, 276: 425, 217: 426, 57: 427, 51: 428, 361: 429, 419: 430, 271: 431, 370: 432, 350: 433, 10: 434, 7: 435, 140: 436}\n",
      "Encoded Angka ke destination_id:  {0: 179, 1: 344, 2: 5, 3: 373, 4: 101, 5: 312, 6: 258, 7: 20, 8: 154, 9: 393, 10: 103, 11: 208, 12: 89, 13: 405, 14: 41, 15: 336, 16: 67, 17: 292, 18: 222, 19: 76, 20: 428, 21: 15, 22: 246, 23: 265, 24: 21, 25: 328, 26: 307, 27: 302, 28: 48, 29: 147, 30: 2, 31: 322, 32: 23, 33: 85, 34: 371, 35: 78, 36: 111, 37: 107, 38: 185, 39: 413, 40: 389, 41: 437, 42: 105, 43: 176, 44: 407, 45: 281, 46: 167, 47: 384, 48: 426, 49: 390, 50: 367, 51: 166, 52: 18, 53: 321, 54: 262, 55: 223, 56: 17, 57: 319, 58: 310, 59: 421, 60: 202, 61: 283, 62: 250, 63: 118, 64: 54, 65: 70, 66: 33, 67: 227, 68: 86, 69: 249, 70: 131, 71: 382, 72: 193, 73: 104, 74: 24, 75: 128, 76: 134, 77: 228, 78: 237, 79: 100, 80: 198, 81: 50, 82: 376, 83: 268, 84: 242, 85: 82, 86: 348, 87: 409, 88: 88, 89: 4, 90: 377, 91: 43, 92: 91, 93: 44, 94: 14, 95: 406, 96: 383, 97: 229, 98: 290, 99: 294, 100: 309, 101: 74, 102: 97, 103: 138, 104: 436, 105: 395, 106: 300, 107: 68, 108: 55, 109: 434, 110: 9, 111: 151, 112: 61, 113: 159, 114: 397, 115: 391, 116: 301, 117: 143, 118: 27, 119: 190, 120: 346, 121: 381, 122: 368, 123: 433, 124: 420, 125: 335, 126: 115, 127: 334, 128: 219, 129: 178, 130: 266, 131: 92, 132: 64, 133: 102, 134: 257, 135: 243, 136: 116, 137: 359, 138: 121, 139: 385, 140: 398, 141: 119, 142: 298, 143: 410, 144: 224, 145: 379, 146: 255, 147: 269, 148: 213, 149: 126, 150: 192, 151: 183, 152: 129, 153: 303, 154: 296, 155: 99, 156: 148, 157: 13, 158: 247, 159: 31, 160: 77, 161: 158, 162: 306, 163: 98, 164: 235, 165: 45, 166: 173, 167: 275, 168: 25, 169: 130, 170: 164, 171: 267, 172: 56, 173: 30, 174: 238, 175: 402, 176: 196, 177: 417, 178: 304, 179: 206, 180: 211, 181: 28, 182: 264, 183: 403, 184: 253, 185: 331, 186: 188, 187: 416, 188: 378, 189: 233, 190: 95, 191: 204, 192: 225, 193: 341, 194: 145, 195: 36, 196: 168, 197: 12, 198: 280, 199: 236, 200: 42, 201: 90, 202: 75, 203: 63, 204: 205, 205: 234, 206: 284, 207: 230, 208: 197, 209: 339, 210: 35, 211: 226, 212: 430, 213: 37, 214: 109, 215: 355, 216: 186, 217: 149, 218: 6, 219: 150, 220: 11, 221: 127, 222: 429, 223: 194, 224: 49, 225: 369, 226: 94, 227: 274, 228: 72, 229: 46, 230: 65, 231: 203, 232: 139, 233: 141, 234: 71, 235: 52, 236: 293, 237: 422, 238: 214, 239: 114, 240: 191, 241: 156, 242: 177, 243: 163, 244: 142, 245: 245, 246: 325, 247: 259, 248: 396, 249: 96, 250: 8, 251: 362, 252: 435, 253: 59, 254: 171, 255: 277, 256: 342, 257: 365, 258: 340, 259: 260, 260: 187, 261: 297, 262: 207, 263: 248, 264: 153, 265: 239, 266: 360, 267: 170, 268: 357, 269: 73, 270: 201, 271: 252, 272: 414, 273: 132, 274: 26, 275: 347, 276: 270, 277: 16, 278: 19, 279: 318, 280: 256, 281: 181, 282: 199, 283: 288, 284: 330, 285: 3, 286: 47, 287: 32, 288: 308, 289: 210, 290: 279, 291: 289, 292: 332, 293: 80, 294: 375, 295: 182, 296: 412, 297: 272, 298: 184, 299: 113, 300: 399, 301: 261, 302: 112, 303: 327, 304: 418, 305: 84, 306: 400, 307: 195, 308: 34, 309: 295, 310: 38, 311: 165, 312: 212, 313: 124, 314: 432, 315: 317, 316: 333, 317: 81, 318: 374, 319: 136, 320: 278, 321: 108, 322: 404, 323: 83, 324: 425, 325: 22, 326: 349, 327: 411, 328: 241, 329: 427, 330: 209, 331: 323, 332: 137, 333: 315, 334: 62, 335: 244, 336: 135, 337: 169, 338: 366, 339: 152, 340: 29, 341: 60, 342: 240, 343: 200, 344: 161, 345: 66, 346: 372, 347: 338, 348: 311, 349: 53, 350: 392, 351: 299, 352: 386, 353: 337, 354: 326, 355: 423, 356: 352, 357: 172, 358: 286, 359: 251, 360: 162, 361: 356, 362: 93, 363: 160, 364: 125, 365: 316, 366: 123, 367: 174, 368: 221, 369: 408, 370: 263, 371: 358, 372: 353, 373: 401, 374: 364, 375: 215, 376: 110, 377: 144, 378: 40, 379: 291, 380: 431, 381: 120, 382: 216, 383: 313, 384: 157, 385: 282, 386: 231, 387: 324, 388: 329, 389: 345, 390: 39, 391: 273, 392: 122, 393: 79, 394: 388, 395: 380, 396: 343, 397: 254, 398: 117, 399: 133, 400: 1, 401: 354, 402: 287, 403: 155, 404: 285, 405: 58, 406: 69, 407: 305, 408: 218, 409: 220, 410: 189, 411: 106, 412: 87, 413: 351, 414: 363, 415: 175, 416: 180, 417: 415, 418: 387, 419: 394, 420: 424, 421: 146, 422: 232, 423: 314, 424: 320, 425: 276, 426: 217, 427: 57, 428: 51, 429: 361, 430: 419, 431: 271, 432: 370, 433: 350, 434: 10, 435: 7, 436: 140}\n"
     ]
    }
   ],
   "source": [
    "destination_id = df_rating[\"Place_Id\"].unique().tolist()\n",
    "print(\"Daftar destination_id: \", destination_id)\n",
    "\n",
    "destination_id_to_encoded = {x: i for i, x in enumerate(destination_id)}\n",
    "print(\"Encoded destination_id: \", destination_id_to_encoded)\n",
    "\n",
    "anime_encoded_to_anime = {i: x for i, x in enumerate(destination_id)}\n",
    "print(\"Encoded Angka ke destination_id: \", anime_encoded_to_anime)\n"
   ]
  },
  {
   "cell_type": "markdown",
   "metadata": {},
   "source": [
    "Setelah di encoding, data di mapping dengan data user id dan place id"
   ]
  },
  {
   "cell_type": "code",
   "execution_count": 44,
   "metadata": {},
   "outputs": [],
   "source": [
    "df_rating[\"user\"] = df_rating[\"User_Id\"].map(user_id_to_encoded)\n",
    "\n",
    "df_rating[\"destination\"] = df_rating[\"Place_Id\"].map(destination_id_to_encoded)\n"
   ]
  },
  {
   "cell_type": "markdown",
   "metadata": {},
   "source": [
    "Melihat jumlah data yang sudah diencode dan melihat nilai rating."
   ]
  },
  {
   "cell_type": "code",
   "execution_count": 45,
   "metadata": {},
   "outputs": [
    {
     "name": "stdout",
     "output_type": "stream",
     "text": [
      "Number of User:  300\n",
      "Number of Movie:  437\n",
      "Min Place Ratings:  1.0\n",
      "Max Place Ratings:  5.0\n"
     ]
    }
   ],
   "source": [
    "num_user = len(user_id_to_encoded)\n",
    "print(\"Number of User: \", num_user)\n",
    "\n",
    "num_destination = len(destination_id_to_encoded)\n",
    "print(\"Number of Movie: \", num_destination)\n",
    "\n",
    "df_rating[\"Place_Ratings\"] = df_rating[\"Place_Ratings\"].values.astype(np.float32)\n",
    "\n",
    "min_rating = min(df_rating[\"Place_Ratings\"])\n",
    "print(\"Min Place Ratings: \", min_rating)\n",
    "\n",
    "max_rating = max(df_rating[\"Place_Ratings\"])\n",
    "print(\"Max Place Ratings: \", max_rating)\n"
   ]
  },
  {
   "cell_type": "code",
   "execution_count": 46,
   "metadata": {},
   "outputs": [
    {
     "data": {
      "text/html": [
       "<div>\n",
       "<style scoped>\n",
       "    .dataframe tbody tr th:only-of-type {\n",
       "        vertical-align: middle;\n",
       "    }\n",
       "\n",
       "    .dataframe tbody tr th {\n",
       "        vertical-align: top;\n",
       "    }\n",
       "\n",
       "    .dataframe thead th {\n",
       "        text-align: right;\n",
       "    }\n",
       "</style>\n",
       "<table border=\"1\" class=\"dataframe\">\n",
       "  <thead>\n",
       "    <tr style=\"text-align: right;\">\n",
       "      <th></th>\n",
       "      <th>User_Id</th>\n",
       "      <th>Place_Id</th>\n",
       "      <th>Place_Ratings</th>\n",
       "      <th>user</th>\n",
       "      <th>destination</th>\n",
       "    </tr>\n",
       "  </thead>\n",
       "  <tbody>\n",
       "    <tr>\n",
       "      <th>6252</th>\n",
       "      <td>188</td>\n",
       "      <td>207</td>\n",
       "      <td>3.0</td>\n",
       "      <td>187</td>\n",
       "      <td>262</td>\n",
       "    </tr>\n",
       "    <tr>\n",
       "      <th>4684</th>\n",
       "      <td>142</td>\n",
       "      <td>268</td>\n",
       "      <td>2.0</td>\n",
       "      <td>141</td>\n",
       "      <td>83</td>\n",
       "    </tr>\n",
       "    <tr>\n",
       "      <th>1731</th>\n",
       "      <td>54</td>\n",
       "      <td>103</td>\n",
       "      <td>3.0</td>\n",
       "      <td>53</td>\n",
       "      <td>10</td>\n",
       "    </tr>\n",
       "    <tr>\n",
       "      <th>4742</th>\n",
       "      <td>144</td>\n",
       "      <td>119</td>\n",
       "      <td>3.0</td>\n",
       "      <td>143</td>\n",
       "      <td>141</td>\n",
       "    </tr>\n",
       "    <tr>\n",
       "      <th>4521</th>\n",
       "      <td>138</td>\n",
       "      <td>288</td>\n",
       "      <td>5.0</td>\n",
       "      <td>137</td>\n",
       "      <td>283</td>\n",
       "    </tr>\n",
       "  </tbody>\n",
       "</table>\n",
       "</div>"
      ],
      "text/plain": [
       "      User_Id  Place_Id  Place_Ratings  user  destination\n",
       "6252      188       207            3.0   187          262\n",
       "4684      142       268            2.0   141           83\n",
       "1731       54       103            3.0    53           10\n",
       "4742      144       119            3.0   143          141\n",
       "4521      138       288            5.0   137          283"
      ]
     },
     "execution_count": 46,
     "metadata": {},
     "output_type": "execute_result"
    }
   ],
   "source": [
    "data_ratings = df_rating.sample(frac=1, random_state=42)\n",
    "data_ratings.head()"
   ]
  },
  {
   "cell_type": "markdown",
   "metadata": {},
   "source": [
    "Membagi dataset dengan proporsi 80:20."
   ]
  },
  {
   "cell_type": "code",
   "execution_count": 47,
   "metadata": {},
   "outputs": [
    {
     "name": "stdout",
     "output_type": "stream",
     "text": [
      "x_train.shape:  (8000, 2)\n",
      "y_train.shape:  (8000,)\n"
     ]
    }
   ],
   "source": [
    "x = data_ratings[[\"user\", \"destination\"]].values\n",
    "y = data_ratings[\"Place_Ratings\"].apply(lambda x: (x - min_rating) / (max_rating - min_rating)).values\n",
    "\n",
    "train_indices = int(0.8 * data_ratings.shape[0])\n",
    "x_train, x_val, y_train, y_val = (\n",
    "    x[:train_indices],\n",
    "    x[train_indices:],\n",
    "    y[:train_indices],\n",
    "    y[train_indices:],\n",
    ")\n",
    "\n",
    "print(\"x_train.shape: \", x_train.shape)\n",
    "print(\"y_train.shape: \", y_train.shape)"
   ]
  },
  {
   "cell_type": "markdown",
   "metadata": {},
   "source": [
    "Membangun arsitektur model collaborative filtering RecommenderNet dengan menggunakan TensorFlow"
   ]
  },
  {
   "cell_type": "code",
   "execution_count": 48,
   "metadata": {},
   "outputs": [],
   "source": [
    "class RecommenderNet(tf.keras.Model):\n",
    "    def __init__(self, num_user, num_destination, embedding_size, **kwargs):\n",
    "        super(RecommenderNet, self).__init__(**kwargs)\n",
    "        self.num_user = num_user\n",
    "        self.num_destination = num_destination\n",
    "        self.embedding_size = embedding_size\n",
    "        self.user_embedding = layers.Embedding(\n",
    "            num_user,\n",
    "            embedding_size,\n",
    "            embeddings_initializer=\"he_normal\",\n",
    "            embeddings_regularizer=keras.regularizers.l2(1e-6),\n",
    "        )\n",
    "        self.user_bias = layers.Embedding(num_user, 1)\n",
    "        self.destination_embedding = layers.Embedding(\n",
    "            num_destination,\n",
    "            embedding_size,\n",
    "            embeddings_initializer=\"he_normal\",\n",
    "            embeddings_regularizer=keras.regularizers.l2(1e-6),\n",
    "        )\n",
    "        self.destination_bias = layers.Embedding(num_destination, 1)\n",
    "\n",
    "    def call(self, inputs):\n",
    "        user_vector = self.user_embedding(inputs[:, 0])\n",
    "        user_bias = self.user_bias(inputs[:, 0])\n",
    "        destination_vector = self.destination_embedding(inputs[:, 1])\n",
    "        destination_bias = self.destination_bias(inputs[:, 1])\n",
    "\n",
    "        dot_user_destination = tf.tensordot(user_vector, destination_vector, 2)\n",
    "\n",
    "        x = dot_user_destination + user_bias + destination_bias\n",
    "\n",
    "        return tf.nn.sigmoid(x)\n"
   ]
  },
  {
   "cell_type": "markdown",
   "metadata": {},
   "source": [
    "membuat model RecommenderNet dengan loss BinaryCrossentropy, optimizer Adam, dan metrics RootMeanSquaredError"
   ]
  },
  {
   "cell_type": "code",
   "execution_count": 49,
   "metadata": {},
   "outputs": [],
   "source": [
    "model = RecommenderNet(num_user, num_destination, 40)\n",
    "\n",
    "# model compile\n",
    "model.compile(\n",
    "    loss=tf.keras.losses.BinaryCrossentropy(),\n",
    "    optimizer=keras.optimizers.Adam(learning_rate=0.001),\n",
    "    metrics=[tf.keras.metrics.RootMeanSquaredError()],\n",
    ")"
   ]
  },
  {
   "cell_type": "markdown",
   "metadata": {},
   "source": [
    "Melatih model menggunakan data yang sudah dibagi dan sebanyak 20 epoch"
   ]
  },
  {
   "cell_type": "code",
   "execution_count": 50,
   "metadata": {},
   "outputs": [
    {
     "name": "stdout",
     "output_type": "stream",
     "text": [
      "Epoch 1/20\n",
      "\u001b[1m250/250\u001b[0m \u001b[32m━━━━━━━━━━━━━━━━━━━━\u001b[0m\u001b[37m\u001b[0m \u001b[1m10s\u001b[0m 11ms/step - loss: 0.6991 - root_mean_squared_error: 0.3493 - val_loss: 0.6979 - val_root_mean_squared_error: 0.3486\n",
      "Epoch 2/20\n",
      "\u001b[1m250/250\u001b[0m \u001b[32m━━━━━━━━━━━━━━━━━━━━\u001b[0m\u001b[37m\u001b[0m \u001b[1m3s\u001b[0m 3ms/step - loss: 0.6960 - root_mean_squared_error: 0.3486 - val_loss: 0.6984 - val_root_mean_squared_error: 0.3489\n",
      "Epoch 3/20\n",
      "\u001b[1m250/250\u001b[0m \u001b[32m━━━━━━━━━━━━━━━━━━━━\u001b[0m\u001b[37m\u001b[0m \u001b[1m2s\u001b[0m 4ms/step - loss: 0.6948 - root_mean_squared_error: 0.3464 - val_loss: 0.6967 - val_root_mean_squared_error: 0.3478\n",
      "Epoch 4/20\n",
      "\u001b[1m250/250\u001b[0m \u001b[32m━━━━━━━━━━━━━━━━━━━━\u001b[0m\u001b[37m\u001b[0m \u001b[1m1s\u001b[0m 3ms/step - loss: 0.6914 - root_mean_squared_error: 0.3437 - val_loss: 0.6961 - val_root_mean_squared_error: 0.3473\n",
      "Epoch 5/20\n",
      "\u001b[1m250/250\u001b[0m \u001b[32m━━━━━━━━━━━━━━━━━━━━\u001b[0m\u001b[37m\u001b[0m \u001b[1m1s\u001b[0m 4ms/step - loss: 0.6876 - root_mean_squared_error: 0.3454 - val_loss: 0.6952 - val_root_mean_squared_error: 0.3467\n",
      "Epoch 6/20\n",
      "\u001b[1m250/250\u001b[0m \u001b[32m━━━━━━━━━━━━━━━━━━━━\u001b[0m\u001b[37m\u001b[0m \u001b[1m1s\u001b[0m 4ms/step - loss: 0.6893 - root_mean_squared_error: 0.3422 - val_loss: 0.6950 - val_root_mean_squared_error: 0.3465\n",
      "Epoch 7/20\n",
      "\u001b[1m250/250\u001b[0m \u001b[32m━━━━━━━━━━━━━━━━━━━━\u001b[0m\u001b[37m\u001b[0m \u001b[1m1s\u001b[0m 3ms/step - loss: 0.6852 - root_mean_squared_error: 0.3394 - val_loss: 0.6947 - val_root_mean_squared_error: 0.3463\n",
      "Epoch 8/20\n",
      "\u001b[1m250/250\u001b[0m \u001b[32m━━━━━━━━━━━━━━━━━━━━\u001b[0m\u001b[37m\u001b[0m \u001b[1m1s\u001b[0m 3ms/step - loss: 0.6817 - root_mean_squared_error: 0.3363 - val_loss: 0.6949 - val_root_mean_squared_error: 0.3465\n",
      "Epoch 9/20\n",
      "\u001b[1m250/250\u001b[0m \u001b[32m━━━━━━━━━━━━━━━━━━━━\u001b[0m\u001b[37m\u001b[0m \u001b[1m2s\u001b[0m 3ms/step - loss: 0.6812 - root_mean_squared_error: 0.3349 - val_loss: 0.6951 - val_root_mean_squared_error: 0.3465\n",
      "Epoch 10/20\n",
      "\u001b[1m250/250\u001b[0m \u001b[32m━━━━━━━━━━━━━━━━━━━━\u001b[0m\u001b[37m\u001b[0m \u001b[1m1s\u001b[0m 3ms/step - loss: 0.6830 - root_mean_squared_error: 0.3412 - val_loss: 0.6950 - val_root_mean_squared_error: 0.3465\n",
      "Epoch 11/20\n",
      "\u001b[1m250/250\u001b[0m \u001b[32m━━━━━━━━━━━━━━━━━━━━\u001b[0m\u001b[37m\u001b[0m \u001b[1m1s\u001b[0m 2ms/step - loss: 0.6810 - root_mean_squared_error: 0.3356 - val_loss: 0.6950 - val_root_mean_squared_error: 0.3465\n",
      "Epoch 12/20\n",
      "\u001b[1m250/250\u001b[0m \u001b[32m━━━━━━━━━━━━━━━━━━━━\u001b[0m\u001b[37m\u001b[0m \u001b[1m1s\u001b[0m 3ms/step - loss: 0.6793 - root_mean_squared_error: 0.3362 - val_loss: 0.6964 - val_root_mean_squared_error: 0.3475\n",
      "Epoch 13/20\n",
      "\u001b[1m250/250\u001b[0m \u001b[32m━━━━━━━━━━━━━━━━━━━━\u001b[0m\u001b[37m\u001b[0m \u001b[1m1s\u001b[0m 2ms/step - loss: 0.6779 - root_mean_squared_error: 0.3357 - val_loss: 0.6965 - val_root_mean_squared_error: 0.3475\n",
      "Epoch 14/20\n",
      "\u001b[1m250/250\u001b[0m \u001b[32m━━━━━━━━━━━━━━━━━━━━\u001b[0m\u001b[37m\u001b[0m \u001b[1m1s\u001b[0m 3ms/step - loss: 0.6782 - root_mean_squared_error: 0.3341 - val_loss: 0.6971 - val_root_mean_squared_error: 0.3478\n",
      "Epoch 15/20\n",
      "\u001b[1m250/250\u001b[0m \u001b[32m━━━━━━━━━━━━━━━━━━━━\u001b[0m\u001b[37m\u001b[0m \u001b[1m1s\u001b[0m 3ms/step - loss: 0.6769 - root_mean_squared_error: 0.3355 - val_loss: 0.6967 - val_root_mean_squared_error: 0.3475\n",
      "Epoch 16/20\n",
      "\u001b[1m250/250\u001b[0m \u001b[32m━━━━━━━━━━━━━━━━━━━━\u001b[0m\u001b[37m\u001b[0m \u001b[1m1s\u001b[0m 5ms/step - loss: 0.6754 - root_mean_squared_error: 0.3305 - val_loss: 0.6973 - val_root_mean_squared_error: 0.3480\n",
      "Epoch 17/20\n",
      "\u001b[1m250/250\u001b[0m \u001b[32m━━━━━━━━━━━━━━━━━━━━\u001b[0m\u001b[37m\u001b[0m \u001b[1m1s\u001b[0m 4ms/step - loss: 0.6775 - root_mean_squared_error: 0.3331 - val_loss: 0.6982 - val_root_mean_squared_error: 0.3485\n",
      "Epoch 18/20\n",
      "\u001b[1m250/250\u001b[0m \u001b[32m━━━━━━━━━━━━━━━━━━━━\u001b[0m\u001b[37m\u001b[0m \u001b[1m1s\u001b[0m 4ms/step - loss: 0.6752 - root_mean_squared_error: 0.3315 - val_loss: 0.6982 - val_root_mean_squared_error: 0.3486\n",
      "Epoch 19/20\n",
      "\u001b[1m250/250\u001b[0m \u001b[32m━━━━━━━━━━━━━━━━━━━━\u001b[0m\u001b[37m\u001b[0m \u001b[1m1s\u001b[0m 3ms/step - loss: 0.6738 - root_mean_squared_error: 0.3301 - val_loss: 0.6985 - val_root_mean_squared_error: 0.3487\n",
      "Epoch 20/20\n",
      "\u001b[1m250/250\u001b[0m \u001b[32m━━━━━━━━━━━━━━━━━━━━\u001b[0m\u001b[37m\u001b[0m \u001b[1m1s\u001b[0m 3ms/step - loss: 0.6719 - root_mean_squared_error: 0.3270 - val_loss: 0.6979 - val_root_mean_squared_error: 0.3483\n"
     ]
    }
   ],
   "source": [
    "history = model.fit(\n",
    "    x=x_train, y=y_train, epochs=20, validation_data=(x_val, y_val)\n",
    ")\n"
   ]
  },
  {
   "cell_type": "markdown",
   "metadata": {},
   "source": [
    "Melakukan visualisasi performa model berdasarkan nilai RMSE"
   ]
  },
  {
   "cell_type": "code",
   "execution_count": 51,
   "metadata": {},
   "outputs": [
    {
     "data": {
      "image/png": "[encoded data removed]",
      "text/plain": [
       "<Figure size 640x480 with 1 Axes>"
      ]
     },
     "metadata": {},
     "output_type": "display_data"
    }
   ],
   "source": [
    "plt.plot(history.history[\"root_mean_squared_error\"])\n",
    "plt.plot(history.history[\"val_root_mean_squared_error\"])\n",
    "plt.title(\"model_metrics\")\n",
    "plt.ylabel(\"root_mean_squared_error\")\n",
    "plt.xlabel(\"epoch\")\n",
    "plt.legend([\"train\", \"test\"], loc=\"upper left\")\n",
    "plt.show()"
   ]
  },
  {
   "cell_type": "markdown",
   "metadata": {},
   "source": [
    "Nilai RMSE pada datta train dan data test"
   ]
  },
  {
   "cell_type": "code",
   "execution_count": 73,
   "metadata": {},
   "outputs": [
    {
     "name": "stdout",
     "output_type": "stream",
     "text": [
      "\u001b[1m250/250\u001b[0m \u001b[32m━━━━━━━━━━━━━━━━━━━━\u001b[0m\u001b[37m\u001b[0m \u001b[1m1s\u001b[0m 3ms/step\n",
      "\u001b[1m63/63\u001b[0m \u001b[32m━━━━━━━━━━━━━━━━━━━━\u001b[0m\u001b[37m\u001b[0m \u001b[1m0s\u001b[0m 3ms/step\n",
      "Train RMSE: 0.3294311139211965\n",
      "Val RMSE: 0.348280234022521\n"
     ]
    }
   ],
   "source": [
    "# Predict using the model\n",
    "y_train_pred = model.predict(x_train)\n",
    "y_pred = model.predict(x_val)\n",
    "\n",
    "\n",
    "# Calculate RMSE Train and Val using Sklearn\n",
    "train_rmse = root_mean_squared_error(y_train, y_train_pred)\n",
    "val_rmse = root_mean_squared_error(y_val, y_pred)\n",
    "\n",
    "print(f\"Train RMSE: {train_rmse}\")\n",
    "print(f\"Val RMSE: {val_rmse}\")\n"
   ]
  },
  {
   "cell_type": "markdown",
   "metadata": {},
   "source": [
    "Mempersiapkan data yang akan digunakan dalam sistem rekomendasi. Data ini akan menjadi input untuk algoritma rekomendasi yang akan memberikan saran destinasi baru kepada pengguna berdasarkan preferensi mereka."
   ]
  },
  {
   "cell_type": "code",
   "execution_count": null,
   "metadata": {},
   "outputs": [],
   "source": [
    "ratings = pd.read_csv(\"./dataset/indonesia-tourism-destination/tourism_rating.csv\")\n",
    "data_destination = df_destination[[\"Place_Id\", \"Place_Name\", \"Category\"]]\n",
    "\n",
    "user_id = ratings[\"User_Id\"].sample(1).iloc[0]\n",
    "destination_reviewed = ratings[ratings[\"User_Id\"] == user_id]\n",
    "\n",
    "destination_not_reviewed = data_destination[\n",
    "    ~data_destination[\"Place_Id\"].isin(destination_reviewed[\"Place_Id\"].values)\n",
    "][\"Place_Id\"]\n",
    "destination_not_reviewed = list(\n",
    "    set(destination_not_reviewed).intersection(set(destination_id_to_encoded.keys()))\n",
    ")\n",
    "\n",
    "destination_not_reviewed = [\n",
    "    [destination_id_to_encoded.get(x)] for x in destination_not_reviewed\n",
    "]\n",
    "user_id_encoder = user_id_to_encoded.get(user_id)\n",
    "user_destination_array = np.hstack(\n",
    "    ([[user_id_encoder]] * len(destination_not_reviewed), destination_not_reviewed)\n",
    ")"
   ]
  },
  {
   "cell_type": "markdown",
   "metadata": {},
   "source": [
    "Melihat hasil rekomendasi model collaborative filtering dari satu user yang ditentukan secara acak"
   ]
  },
  {
   "cell_type": "code",
   "execution_count": 66,
   "metadata": {},
   "outputs": [
    {
     "name": "stdout",
     "output_type": "stream",
     "text": [
      "\u001b[1m13/13\u001b[0m \u001b[32m━━━━━━━━━━━━━━━━━━━━\u001b[0m\u001b[37m\u001b[0m \u001b[1m0s\u001b[0m 3ms/step  \n",
      "Rekomendasi destinasi untuk user_id:  223\n",
      "===========================\n",
      "Destinasi yang direview: \n",
      "===========================\n",
      "+------------------------------+--------------------+--------+\n",
      "|             Nama             |      Kategori      | Rating |\n",
      "+------------------------------+--------------------+--------+\n",
      "|        Pulau Bidadari        |       Bahari       |  4.6   |\n",
      "|        Pulau Pramuka         |       Bahari       |  4.2   |\n",
      "|           Kidzania           |   Taman Hiburan    |  4.6   |\n",
      "|      Bangsal Pagelaran       |       Budaya       |  4.6   |\n",
      "| Pasar Kebon Empring Bintaran | Pusat Perbelanjaan |  4.4   |\n",
      "|        Pantai Sundak         |       Bahari       |  4.5   |\n",
      "|      Gunung Papandayan       |     Cagar Alam     |  4.6   |\n",
      "|        Curug Aseupan         |     Cagar Alam     |  4.7   |\n",
      "|   Sendang Geulis Kahuripan   |     Cagar Alam     |  4.3   |\n",
      "|     Wisata Eling Bening      |     Cagar Alam     |  4.3   |\n",
      "+------------------------------+--------------------+--------+\n",
      "Rekomendasi destinasi: \n",
      "+--------------------------------+---------------+--------+\n",
      "|              Nama              |    Kategori   | Rating |\n",
      "+--------------------------------+---------------+--------+\n",
      "|        Monumen Nasional        |     Budaya    |  4.6   |\n",
      "|    Atlantis Water Adventure    | Taman Hiburan |  4.5   |\n",
      "|     Museum Bank Indonesia      |     Budaya    |  4.7   |\n",
      "|           Tafso Barn           |   Cagar Alam  |  4.2   |\n",
      "|        Taman Srigunting        | Taman Hiburan |  4.7   |\n",
      "| Water Blaster Bukit Candi Golf | Taman Hiburan |  4.2   |\n",
      "|      Wisata Lereng Kelir       |   Cagar Alam  |  4.3   |\n",
      "|         La Kana Chapel         | Taman Hiburan |  4.5   |\n",
      "|     Kampoeng Kopi Banaran      | Taman Hiburan |  4.3   |\n",
      "|   Monumen Jalesveva Jayamahe   |     Budaya    |  4.6   |\n",
      "+--------------------------------+---------------+--------+\n"
     ]
    }
   ],
   "source": [
    "from prettytable import PrettyTable\n",
    "\n",
    "result_rating = model.predict(user_destination_array).flatten()\n",
    "\n",
    "top_ratings_indices = result_rating.argsort()[-10:][::-1]\n",
    "destination_id = [\n",
    "    anime_encoded_to_anime.get(destination_not_reviewed[x][0]) for x in top_ratings_indices\n",
    "]\n",
    "\n",
    "print(\"Rekomendasi destinasi untuk user_id: \", user_id)\n",
    "print(\"===\" * 9)\n",
    "print(\"Destinasi yang direview: \")\n",
    "print(\"===\" * 9)\n",
    "\n",
    "top_five_destination_reviewed = (\n",
    "    destination_reviewed.sort_values(by=\"Place_Ratings\", ascending=False)\n",
    "    .head(10)\n",
    "    .Place_Id.values\n",
    ")\n",
    "\n",
    "destination_df = df_destination[df_destination[\"Place_Id\"].isin(top_five_destination_reviewed)]\n",
    "table_reviewed = PrettyTable()\n",
    "table_reviewed.field_names = [\"Nama\", \"Kategori\", \"Rating\"]\n",
    "for index, row in destination_df.iterrows():\n",
    "    table_reviewed.add_row([row['Place_Name'], row['Category'], row['Rating']])\n",
    "print(table_reviewed)\n",
    "\n",
    "print(\"Rekomendasi destinasi: \")\n",
    "\n",
    "destination_df = df_destination[df_destination[\"Place_Id\"].isin(destination_id)]\n",
    "table_recommended = PrettyTable()\n",
    "table_recommended.field_names = [\"Nama\", \"Kategori\", \"Rating\"]\n",
    "for index, row in destination_df.iterrows():\n",
    "    table_recommended.add_row([row['Place_Name'], row['Category'], row['Rating']])\n",
    "print(table_recommended)"
   ]
  }
 ],
 "metadata": {
  "kernelspec": {
   "display_name": "Python 3",
   "language": "python",
   "name": "python3"
  },
  "language_info": {
   "codemirror_mode": {
    "name": "ipython",
    "version": 3
   },
   "file_extension": ".py",
   "mimetype": "text/x-python",
   "name": "python",
   "nbconvert_exporter": "python",
   "pygments_lexer": "ipython3",
   "version": "3.12.4"
  }
 },
 "nbformat": 4,
 "nbformat_minor": 2
}
